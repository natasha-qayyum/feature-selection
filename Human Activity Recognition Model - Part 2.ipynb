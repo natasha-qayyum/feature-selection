{
 "cells": [
  {
   "cell_type": "markdown",
   "id": "715445e2",
   "metadata": {},
   "source": [
    "# Human Activity Recognition Model - Part 2\n",
    "## Exploratory Data Analysis. Deducing which numeric signals represent physiotherapy exercises, which will in turn help us to predict specific human activity.\n",
    "\n",
    "#### Natasha Qayyum - 2021\n",
    "\n",
    "Background: <br>\n",
    "MEx is a multimodel dataset containing data for 7 different physiotherapy exercises performed by 30 subjects, recorded by four sensor modalities. This analysis utilises the data recorded by one of these modalities, the Sensing Tex Pressure Mat (sampling frequency 15Hz, frame size 32 * 16), which is both rich and sparse.\n",
    "\n",
    "The aim is to intelligently select a subset of the 512 features, to train a machine learning (ML) model whilst demonstrating a beneficial application of Feature Selection in the pre-processing steps. The ML model seeks to predict which physiotherapy exercise a subject is performing on the pressure mat, according to sensor readings. \n",
    "\n",
    "Benefits of feature selection include:\n",
    "- Reduced training times\n",
    "- Reduced computational requirements\n",
    "- Remove irrelevant features, for example those pressure points which have never picked up a signal\n",
    "- Reduce overfitting, seperating the signal from the noise\n"
   ]
  },
  {
   "cell_type": "markdown",
   "id": "f3416084",
   "metadata": {},
   "source": [
    "### Importing dependency packages"
   ]
  },
  {
   "cell_type": "code",
   "execution_count": 1,
   "id": "c2dbd65a",
   "metadata": {},
   "outputs": [],
   "source": [
    "import numpy as np\n",
    "import pandas as pd\n",
    "import matplotlib.pyplot as plt\n",
    "import seaborn as sns\n",
    "from tqdm.notebook import tqdm\n",
    "from timeit import default_timer as timer\n",
    "import sklearn as sklearn"
   ]
  },
  {
   "cell_type": "markdown",
   "id": "9b38a39c",
   "metadata": {},
   "source": [
    "### Importing dataset"
   ]
  },
  {
   "cell_type": "code",
   "execution_count": 2,
   "id": "f594a6d5",
   "metadata": {},
   "outputs": [
    {
     "data": {
      "text/html": [
       "<div>\n",
       "<style scoped>\n",
       "    .dataframe tbody tr th:only-of-type {\n",
       "        vertical-align: middle;\n",
       "    }\n",
       "\n",
       "    .dataframe tbody tr th {\n",
       "        vertical-align: top;\n",
       "    }\n",
       "\n",
       "    .dataframe thead th {\n",
       "        text-align: right;\n",
       "    }\n",
       "</style>\n",
       "<table border=\"1\" class=\"dataframe\">\n",
       "  <thead>\n",
       "    <tr style=\"text-align: right;\">\n",
       "      <th></th>\n",
       "      <th>Unnamed: 0</th>\n",
       "      <th>Subject</th>\n",
       "      <th>Exercise</th>\n",
       "      <th>a_Time</th>\n",
       "      <th>r_Time</th>\n",
       "      <th>Total_p</th>\n",
       "      <th>1_1</th>\n",
       "      <th>1_2</th>\n",
       "      <th>1_3</th>\n",
       "      <th>1_4</th>\n",
       "      <th>...</th>\n",
       "      <th>32_7</th>\n",
       "      <th>32_8</th>\n",
       "      <th>32_9</th>\n",
       "      <th>32_10</th>\n",
       "      <th>32_11</th>\n",
       "      <th>32_12</th>\n",
       "      <th>32_13</th>\n",
       "      <th>32_14</th>\n",
       "      <th>32_15</th>\n",
       "      <th>32_16</th>\n",
       "    </tr>\n",
       "  </thead>\n",
       "  <tbody>\n",
       "    <tr>\n",
       "      <th>0</th>\n",
       "      <td>0</td>\n",
       "      <td>1</td>\n",
       "      <td>1</td>\n",
       "      <td>2018-11-08 11:34:51.535000</td>\n",
       "      <td>0 days 00:00:00</td>\n",
       "      <td>27375.0</td>\n",
       "      <td>20.0</td>\n",
       "      <td>3.0</td>\n",
       "      <td>2.0</td>\n",
       "      <td>0.0</td>\n",
       "      <td>...</td>\n",
       "      <td>104.0</td>\n",
       "      <td>93.0</td>\n",
       "      <td>58.0</td>\n",
       "      <td>78.0</td>\n",
       "      <td>53.0</td>\n",
       "      <td>192.0</td>\n",
       "      <td>388.0</td>\n",
       "      <td>330.0</td>\n",
       "      <td>123.0</td>\n",
       "      <td>6.0</td>\n",
       "    </tr>\n",
       "    <tr>\n",
       "      <th>1</th>\n",
       "      <td>1</td>\n",
       "      <td>1</td>\n",
       "      <td>1</td>\n",
       "      <td>2018-11-08 11:34:51.602000</td>\n",
       "      <td>0 days 00:00:00.067000</td>\n",
       "      <td>27466.0</td>\n",
       "      <td>20.0</td>\n",
       "      <td>3.0</td>\n",
       "      <td>2.0</td>\n",
       "      <td>0.0</td>\n",
       "      <td>...</td>\n",
       "      <td>106.0</td>\n",
       "      <td>93.0</td>\n",
       "      <td>64.0</td>\n",
       "      <td>78.0</td>\n",
       "      <td>53.0</td>\n",
       "      <td>195.0</td>\n",
       "      <td>390.0</td>\n",
       "      <td>330.0</td>\n",
       "      <td>119.0</td>\n",
       "      <td>7.0</td>\n",
       "    </tr>\n",
       "    <tr>\n",
       "      <th>2</th>\n",
       "      <td>2</td>\n",
       "      <td>1</td>\n",
       "      <td>1</td>\n",
       "      <td>2018-11-08 11:34:51.669000</td>\n",
       "      <td>0 days 00:00:00.134000</td>\n",
       "      <td>27423.0</td>\n",
       "      <td>20.0</td>\n",
       "      <td>3.0</td>\n",
       "      <td>2.0</td>\n",
       "      <td>0.0</td>\n",
       "      <td>...</td>\n",
       "      <td>108.0</td>\n",
       "      <td>94.0</td>\n",
       "      <td>66.0</td>\n",
       "      <td>79.0</td>\n",
       "      <td>55.0</td>\n",
       "      <td>196.0</td>\n",
       "      <td>391.0</td>\n",
       "      <td>324.0</td>\n",
       "      <td>106.0</td>\n",
       "      <td>5.0</td>\n",
       "    </tr>\n",
       "    <tr>\n",
       "      <th>3</th>\n",
       "      <td>3</td>\n",
       "      <td>1</td>\n",
       "      <td>1</td>\n",
       "      <td>2018-11-08 11:34:51.737000</td>\n",
       "      <td>0 days 00:00:00.202000</td>\n",
       "      <td>27651.0</td>\n",
       "      <td>20.0</td>\n",
       "      <td>3.0</td>\n",
       "      <td>2.0</td>\n",
       "      <td>0.0</td>\n",
       "      <td>...</td>\n",
       "      <td>125.0</td>\n",
       "      <td>94.0</td>\n",
       "      <td>64.0</td>\n",
       "      <td>79.0</td>\n",
       "      <td>55.0</td>\n",
       "      <td>194.0</td>\n",
       "      <td>391.0</td>\n",
       "      <td>321.0</td>\n",
       "      <td>114.0</td>\n",
       "      <td>6.0</td>\n",
       "    </tr>\n",
       "    <tr>\n",
       "      <th>4</th>\n",
       "      <td>4</td>\n",
       "      <td>1</td>\n",
       "      <td>1</td>\n",
       "      <td>2018-11-08 11:34:51.804000</td>\n",
       "      <td>0 days 00:00:00.269000</td>\n",
       "      <td>27416.0</td>\n",
       "      <td>20.0</td>\n",
       "      <td>3.0</td>\n",
       "      <td>2.0</td>\n",
       "      <td>0.0</td>\n",
       "      <td>...</td>\n",
       "      <td>129.0</td>\n",
       "      <td>95.0</td>\n",
       "      <td>64.0</td>\n",
       "      <td>79.0</td>\n",
       "      <td>55.0</td>\n",
       "      <td>194.0</td>\n",
       "      <td>381.0</td>\n",
       "      <td>321.0</td>\n",
       "      <td>114.0</td>\n",
       "      <td>6.0</td>\n",
       "    </tr>\n",
       "    <tr>\n",
       "      <th>...</th>\n",
       "      <td>...</td>\n",
       "      <td>...</td>\n",
       "      <td>...</td>\n",
       "      <td>...</td>\n",
       "      <td>...</td>\n",
       "      <td>...</td>\n",
       "      <td>...</td>\n",
       "      <td>...</td>\n",
       "      <td>...</td>\n",
       "      <td>...</td>\n",
       "      <td>...</td>\n",
       "      <td>...</td>\n",
       "      <td>...</td>\n",
       "      <td>...</td>\n",
       "      <td>...</td>\n",
       "      <td>...</td>\n",
       "      <td>...</td>\n",
       "      <td>...</td>\n",
       "      <td>...</td>\n",
       "      <td>...</td>\n",
       "      <td>...</td>\n",
       "    </tr>\n",
       "    <tr>\n",
       "      <th>188111</th>\n",
       "      <td>922</td>\n",
       "      <td>30</td>\n",
       "      <td>7</td>\n",
       "      <td>2019-03-26 16:45:51.454000</td>\n",
       "      <td>0 days 00:01:01.976000</td>\n",
       "      <td>578.0</td>\n",
       "      <td>6.0</td>\n",
       "      <td>0.0</td>\n",
       "      <td>0.0</td>\n",
       "      <td>0.0</td>\n",
       "      <td>...</td>\n",
       "      <td>0.0</td>\n",
       "      <td>0.0</td>\n",
       "      <td>0.0</td>\n",
       "      <td>0.0</td>\n",
       "      <td>0.0</td>\n",
       "      <td>0.0</td>\n",
       "      <td>0.0</td>\n",
       "      <td>0.0</td>\n",
       "      <td>0.0</td>\n",
       "      <td>0.0</td>\n",
       "    </tr>\n",
       "    <tr>\n",
       "      <th>188112</th>\n",
       "      <td>923</td>\n",
       "      <td>30</td>\n",
       "      <td>7</td>\n",
       "      <td>2019-03-26 16:45:51.522000</td>\n",
       "      <td>0 days 00:01:02.044000</td>\n",
       "      <td>633.0</td>\n",
       "      <td>4.0</td>\n",
       "      <td>0.0</td>\n",
       "      <td>0.0</td>\n",
       "      <td>0.0</td>\n",
       "      <td>...</td>\n",
       "      <td>0.0</td>\n",
       "      <td>0.0</td>\n",
       "      <td>0.0</td>\n",
       "      <td>0.0</td>\n",
       "      <td>0.0</td>\n",
       "      <td>0.0</td>\n",
       "      <td>0.0</td>\n",
       "      <td>0.0</td>\n",
       "      <td>0.0</td>\n",
       "      <td>0.0</td>\n",
       "    </tr>\n",
       "    <tr>\n",
       "      <th>188113</th>\n",
       "      <td>924</td>\n",
       "      <td>30</td>\n",
       "      <td>7</td>\n",
       "      <td>2019-03-26 16:45:51.589000</td>\n",
       "      <td>0 days 00:01:02.111000</td>\n",
       "      <td>696.0</td>\n",
       "      <td>3.0</td>\n",
       "      <td>0.0</td>\n",
       "      <td>0.0</td>\n",
       "      <td>0.0</td>\n",
       "      <td>...</td>\n",
       "      <td>0.0</td>\n",
       "      <td>0.0</td>\n",
       "      <td>0.0</td>\n",
       "      <td>0.0</td>\n",
       "      <td>0.0</td>\n",
       "      <td>0.0</td>\n",
       "      <td>0.0</td>\n",
       "      <td>0.0</td>\n",
       "      <td>0.0</td>\n",
       "      <td>0.0</td>\n",
       "    </tr>\n",
       "    <tr>\n",
       "      <th>188114</th>\n",
       "      <td>925</td>\n",
       "      <td>30</td>\n",
       "      <td>7</td>\n",
       "      <td>2019-03-26 16:45:51.656000</td>\n",
       "      <td>0 days 00:01:02.178000</td>\n",
       "      <td>704.0</td>\n",
       "      <td>5.0</td>\n",
       "      <td>0.0</td>\n",
       "      <td>0.0</td>\n",
       "      <td>0.0</td>\n",
       "      <td>...</td>\n",
       "      <td>0.0</td>\n",
       "      <td>0.0</td>\n",
       "      <td>0.0</td>\n",
       "      <td>0.0</td>\n",
       "      <td>0.0</td>\n",
       "      <td>0.0</td>\n",
       "      <td>0.0</td>\n",
       "      <td>0.0</td>\n",
       "      <td>0.0</td>\n",
       "      <td>0.0</td>\n",
       "    </tr>\n",
       "    <tr>\n",
       "      <th>188115</th>\n",
       "      <td>926</td>\n",
       "      <td>30</td>\n",
       "      <td>7</td>\n",
       "      <td>2019-03-26 16:45:51.723000</td>\n",
       "      <td>0 days 00:01:02.245000</td>\n",
       "      <td>697.0</td>\n",
       "      <td>5.0</td>\n",
       "      <td>0.0</td>\n",
       "      <td>0.0</td>\n",
       "      <td>0.0</td>\n",
       "      <td>...</td>\n",
       "      <td>0.0</td>\n",
       "      <td>0.0</td>\n",
       "      <td>0.0</td>\n",
       "      <td>0.0</td>\n",
       "      <td>0.0</td>\n",
       "      <td>0.0</td>\n",
       "      <td>0.0</td>\n",
       "      <td>0.0</td>\n",
       "      <td>0.0</td>\n",
       "      <td>0.0</td>\n",
       "    </tr>\n",
       "  </tbody>\n",
       "</table>\n",
       "<p>188116 rows × 518 columns</p>\n",
       "</div>"
      ],
      "text/plain": [
       "        Unnamed: 0  Subject  Exercise                      a_Time  \\\n",
       "0                0        1         1  2018-11-08 11:34:51.535000   \n",
       "1                1        1         1  2018-11-08 11:34:51.602000   \n",
       "2                2        1         1  2018-11-08 11:34:51.669000   \n",
       "3                3        1         1  2018-11-08 11:34:51.737000   \n",
       "4                4        1         1  2018-11-08 11:34:51.804000   \n",
       "...            ...      ...       ...                         ...   \n",
       "188111         922       30         7  2019-03-26 16:45:51.454000   \n",
       "188112         923       30         7  2019-03-26 16:45:51.522000   \n",
       "188113         924       30         7  2019-03-26 16:45:51.589000   \n",
       "188114         925       30         7  2019-03-26 16:45:51.656000   \n",
       "188115         926       30         7  2019-03-26 16:45:51.723000   \n",
       "\n",
       "                        r_Time  Total_p   1_1  1_2  1_3  1_4  ...   32_7  \\\n",
       "0              0 days 00:00:00  27375.0  20.0  3.0  2.0  0.0  ...  104.0   \n",
       "1       0 days 00:00:00.067000  27466.0  20.0  3.0  2.0  0.0  ...  106.0   \n",
       "2       0 days 00:00:00.134000  27423.0  20.0  3.0  2.0  0.0  ...  108.0   \n",
       "3       0 days 00:00:00.202000  27651.0  20.0  3.0  2.0  0.0  ...  125.0   \n",
       "4       0 days 00:00:00.269000  27416.0  20.0  3.0  2.0  0.0  ...  129.0   \n",
       "...                        ...      ...   ...  ...  ...  ...  ...    ...   \n",
       "188111  0 days 00:01:01.976000    578.0   6.0  0.0  0.0  0.0  ...    0.0   \n",
       "188112  0 days 00:01:02.044000    633.0   4.0  0.0  0.0  0.0  ...    0.0   \n",
       "188113  0 days 00:01:02.111000    696.0   3.0  0.0  0.0  0.0  ...    0.0   \n",
       "188114  0 days 00:01:02.178000    704.0   5.0  0.0  0.0  0.0  ...    0.0   \n",
       "188115  0 days 00:01:02.245000    697.0   5.0  0.0  0.0  0.0  ...    0.0   \n",
       "\n",
       "        32_8  32_9  32_10  32_11  32_12  32_13  32_14  32_15  32_16  \n",
       "0       93.0  58.0   78.0   53.0  192.0  388.0  330.0  123.0    6.0  \n",
       "1       93.0  64.0   78.0   53.0  195.0  390.0  330.0  119.0    7.0  \n",
       "2       94.0  66.0   79.0   55.0  196.0  391.0  324.0  106.0    5.0  \n",
       "3       94.0  64.0   79.0   55.0  194.0  391.0  321.0  114.0    6.0  \n",
       "4       95.0  64.0   79.0   55.0  194.0  381.0  321.0  114.0    6.0  \n",
       "...      ...   ...    ...    ...    ...    ...    ...    ...    ...  \n",
       "188111   0.0   0.0    0.0    0.0    0.0    0.0    0.0    0.0    0.0  \n",
       "188112   0.0   0.0    0.0    0.0    0.0    0.0    0.0    0.0    0.0  \n",
       "188113   0.0   0.0    0.0    0.0    0.0    0.0    0.0    0.0    0.0  \n",
       "188114   0.0   0.0    0.0    0.0    0.0    0.0    0.0    0.0    0.0  \n",
       "188115   0.0   0.0    0.0    0.0    0.0    0.0    0.0    0.0    0.0  \n",
       "\n",
       "[188116 rows x 518 columns]"
      ]
     },
     "execution_count": 2,
     "metadata": {},
     "output_type": "execute_result"
    }
   ],
   "source": [
    "pm_df = pd.read_csv('all_pm_data.csv')\n",
    "pm_df"
   ]
  },
  {
   "cell_type": "code",
   "execution_count": 3,
   "id": "e67404da",
   "metadata": {},
   "outputs": [
    {
     "data": {
      "text/html": [
       "<div>\n",
       "<style scoped>\n",
       "    .dataframe tbody tr th:only-of-type {\n",
       "        vertical-align: middle;\n",
       "    }\n",
       "\n",
       "    .dataframe tbody tr th {\n",
       "        vertical-align: top;\n",
       "    }\n",
       "\n",
       "    .dataframe thead th {\n",
       "        text-align: right;\n",
       "    }\n",
       "</style>\n",
       "<table border=\"1\" class=\"dataframe\">\n",
       "  <thead>\n",
       "    <tr style=\"text-align: right;\">\n",
       "      <th></th>\n",
       "      <th>SE_datapoint</th>\n",
       "      <th>Subject</th>\n",
       "      <th>Exercise</th>\n",
       "      <th>a_Time</th>\n",
       "      <th>r_Time</th>\n",
       "      <th>Total_p</th>\n",
       "      <th>1_1</th>\n",
       "      <th>1_2</th>\n",
       "      <th>1_3</th>\n",
       "      <th>1_4</th>\n",
       "      <th>...</th>\n",
       "      <th>32_7</th>\n",
       "      <th>32_8</th>\n",
       "      <th>32_9</th>\n",
       "      <th>32_10</th>\n",
       "      <th>32_11</th>\n",
       "      <th>32_12</th>\n",
       "      <th>32_13</th>\n",
       "      <th>32_14</th>\n",
       "      <th>32_15</th>\n",
       "      <th>32_16</th>\n",
       "    </tr>\n",
       "  </thead>\n",
       "  <tbody>\n",
       "    <tr>\n",
       "      <th>0</th>\n",
       "      <td>0</td>\n",
       "      <td>1</td>\n",
       "      <td>1</td>\n",
       "      <td>2018-11-08 11:34:51.535000</td>\n",
       "      <td>0 days 00:00:00</td>\n",
       "      <td>27375.0</td>\n",
       "      <td>20.0</td>\n",
       "      <td>3.0</td>\n",
       "      <td>2.0</td>\n",
       "      <td>0.0</td>\n",
       "      <td>...</td>\n",
       "      <td>104.0</td>\n",
       "      <td>93.0</td>\n",
       "      <td>58.0</td>\n",
       "      <td>78.0</td>\n",
       "      <td>53.0</td>\n",
       "      <td>192.0</td>\n",
       "      <td>388.0</td>\n",
       "      <td>330.0</td>\n",
       "      <td>123.0</td>\n",
       "      <td>6.0</td>\n",
       "    </tr>\n",
       "    <tr>\n",
       "      <th>1</th>\n",
       "      <td>1</td>\n",
       "      <td>1</td>\n",
       "      <td>1</td>\n",
       "      <td>2018-11-08 11:34:51.602000</td>\n",
       "      <td>0 days 00:00:00.067000</td>\n",
       "      <td>27466.0</td>\n",
       "      <td>20.0</td>\n",
       "      <td>3.0</td>\n",
       "      <td>2.0</td>\n",
       "      <td>0.0</td>\n",
       "      <td>...</td>\n",
       "      <td>106.0</td>\n",
       "      <td>93.0</td>\n",
       "      <td>64.0</td>\n",
       "      <td>78.0</td>\n",
       "      <td>53.0</td>\n",
       "      <td>195.0</td>\n",
       "      <td>390.0</td>\n",
       "      <td>330.0</td>\n",
       "      <td>119.0</td>\n",
       "      <td>7.0</td>\n",
       "    </tr>\n",
       "    <tr>\n",
       "      <th>2</th>\n",
       "      <td>2</td>\n",
       "      <td>1</td>\n",
       "      <td>1</td>\n",
       "      <td>2018-11-08 11:34:51.669000</td>\n",
       "      <td>0 days 00:00:00.134000</td>\n",
       "      <td>27423.0</td>\n",
       "      <td>20.0</td>\n",
       "      <td>3.0</td>\n",
       "      <td>2.0</td>\n",
       "      <td>0.0</td>\n",
       "      <td>...</td>\n",
       "      <td>108.0</td>\n",
       "      <td>94.0</td>\n",
       "      <td>66.0</td>\n",
       "      <td>79.0</td>\n",
       "      <td>55.0</td>\n",
       "      <td>196.0</td>\n",
       "      <td>391.0</td>\n",
       "      <td>324.0</td>\n",
       "      <td>106.0</td>\n",
       "      <td>5.0</td>\n",
       "    </tr>\n",
       "    <tr>\n",
       "      <th>3</th>\n",
       "      <td>3</td>\n",
       "      <td>1</td>\n",
       "      <td>1</td>\n",
       "      <td>2018-11-08 11:34:51.737000</td>\n",
       "      <td>0 days 00:00:00.202000</td>\n",
       "      <td>27651.0</td>\n",
       "      <td>20.0</td>\n",
       "      <td>3.0</td>\n",
       "      <td>2.0</td>\n",
       "      <td>0.0</td>\n",
       "      <td>...</td>\n",
       "      <td>125.0</td>\n",
       "      <td>94.0</td>\n",
       "      <td>64.0</td>\n",
       "      <td>79.0</td>\n",
       "      <td>55.0</td>\n",
       "      <td>194.0</td>\n",
       "      <td>391.0</td>\n",
       "      <td>321.0</td>\n",
       "      <td>114.0</td>\n",
       "      <td>6.0</td>\n",
       "    </tr>\n",
       "    <tr>\n",
       "      <th>4</th>\n",
       "      <td>4</td>\n",
       "      <td>1</td>\n",
       "      <td>1</td>\n",
       "      <td>2018-11-08 11:34:51.804000</td>\n",
       "      <td>0 days 00:00:00.269000</td>\n",
       "      <td>27416.0</td>\n",
       "      <td>20.0</td>\n",
       "      <td>3.0</td>\n",
       "      <td>2.0</td>\n",
       "      <td>0.0</td>\n",
       "      <td>...</td>\n",
       "      <td>129.0</td>\n",
       "      <td>95.0</td>\n",
       "      <td>64.0</td>\n",
       "      <td>79.0</td>\n",
       "      <td>55.0</td>\n",
       "      <td>194.0</td>\n",
       "      <td>381.0</td>\n",
       "      <td>321.0</td>\n",
       "      <td>114.0</td>\n",
       "      <td>6.0</td>\n",
       "    </tr>\n",
       "  </tbody>\n",
       "</table>\n",
       "<p>5 rows × 518 columns</p>\n",
       "</div>"
      ],
      "text/plain": [
       "   SE_datapoint  Subject  Exercise                      a_Time  \\\n",
       "0             0        1         1  2018-11-08 11:34:51.535000   \n",
       "1             1        1         1  2018-11-08 11:34:51.602000   \n",
       "2             2        1         1  2018-11-08 11:34:51.669000   \n",
       "3             3        1         1  2018-11-08 11:34:51.737000   \n",
       "4             4        1         1  2018-11-08 11:34:51.804000   \n",
       "\n",
       "                   r_Time  Total_p   1_1  1_2  1_3  1_4  ...   32_7  32_8  \\\n",
       "0         0 days 00:00:00  27375.0  20.0  3.0  2.0  0.0  ...  104.0  93.0   \n",
       "1  0 days 00:00:00.067000  27466.0  20.0  3.0  2.0  0.0  ...  106.0  93.0   \n",
       "2  0 days 00:00:00.134000  27423.0  20.0  3.0  2.0  0.0  ...  108.0  94.0   \n",
       "3  0 days 00:00:00.202000  27651.0  20.0  3.0  2.0  0.0  ...  125.0  94.0   \n",
       "4  0 days 00:00:00.269000  27416.0  20.0  3.0  2.0  0.0  ...  129.0  95.0   \n",
       "\n",
       "   32_9  32_10  32_11  32_12  32_13  32_14  32_15  32_16  \n",
       "0  58.0   78.0   53.0  192.0  388.0  330.0  123.0    6.0  \n",
       "1  64.0   78.0   53.0  195.0  390.0  330.0  119.0    7.0  \n",
       "2  66.0   79.0   55.0  196.0  391.0  324.0  106.0    5.0  \n",
       "3  64.0   79.0   55.0  194.0  391.0  321.0  114.0    6.0  \n",
       "4  64.0   79.0   55.0  194.0  381.0  321.0  114.0    6.0  \n",
       "\n",
       "[5 rows x 518 columns]"
      ]
     },
     "execution_count": 3,
     "metadata": {},
     "output_type": "execute_result"
    }
   ],
   "source": [
    "#rename 'subject x exercise datapoint' column name\n",
    "pm_df.rename(columns={'Unnamed: 0': 'SE_datapoint'}, inplace=True) \n",
    "pm_df.head()"
   ]
  },
  {
   "cell_type": "markdown",
   "id": "98f07eb5",
   "metadata": {},
   "source": [
    "### Visualising a Single Row of Data"
   ]
  },
  {
   "cell_type": "code",
   "execution_count": 4,
   "id": "b2f42963",
   "metadata": {},
   "outputs": [
    {
     "data": {
      "text/plain": [
       "<AxesSubplot:>"
      ]
     },
     "execution_count": 4,
     "metadata": {},
     "output_type": "execute_result"
    },
    {
     "data": {
      "image/png": "[encoded data removed]",
      "text/plain": [
       "<Figure size 1152x576 with 2 Axes>"
      ]
     },
     "metadata": {
      "needs_background": "light"
     },
     "output_type": "display_data"
    }
   ],
   "source": [
    "#using seaborn to visualise one data point as an X-Y heatmap\n",
    "#1520 is just a nice one, can alter the row number to anything\n",
    "rowNum = 1520\n",
    "\n",
    "#create an array using the pressure point readings in the specified row \n",
    "heatmapData = pm_df.iloc[rowNum, 6:len(pm_df.columns)].to_numpy() #start from column index 6 until the end\n",
    "heatmapData = heatmapData.reshape(32, 16).astype(float) #reshape the datapoints into a 32x16 grid\n",
    "\n",
    "plt.figure(figsize=(16, 8)) #defining the size and dimensions of the graph\n",
    "sns.heatmap(heatmapData.T, vmin=0, vmax=1550) #display the heatmap with defined scale\n",
    "#sns.heatmap(heatmapData.T) #display the heatmap with relative scale\n",
    "\n"
   ]
  },
  {
   "cell_type": "markdown",
   "id": "aedf28c3",
   "metadata": {},
   "source": [
    "This heatmap is a perfect visual representation of pressure being applied to a yoga mat with pressure sensors. The row number can be altered to visualise the pressure being applied at a specific point in time."
   ]
  },
  {
   "cell_type": "markdown",
   "id": "39c5fbea",
   "metadata": {},
   "source": [
    "### Exploring the distribution of sensor readings amongst exercises and subjects"
   ]
  },
  {
   "cell_type": "code",
   "execution_count": 5,
   "id": "0da8ae22",
   "metadata": {},
   "outputs": [
    {
     "data": {
      "text/plain": [
       "<seaborn.axisgrid.FacetGrid at 0x7f7a02552e80>"
      ]
     },
     "execution_count": 5,
     "metadata": {},
     "output_type": "execute_result"
    },
    {
     "data": {
      "image/png": "[encoded data removed]",
      "text/plain": [
       "<Figure size 360x360 with 1 Axes>"
      ]
     },
     "metadata": {
      "needs_background": "light"
     },
     "output_type": "display_data"
    }
   ],
   "source": [
    "sns.displot(pm_df.loc[:, 'Subject'])"
   ]
  },
  {
   "cell_type": "markdown",
   "id": "636dcb6d",
   "metadata": {},
   "source": [
    "Each subject has an extensive number of datapoints, and none stand out as reason to exclude. "
   ]
  },
  {
   "cell_type": "code",
   "execution_count": 6,
   "id": "63db2cba",
   "metadata": {},
   "outputs": [
    {
     "data": {
      "text/plain": [
       "<seaborn.axisgrid.FacetGrid at 0x7f7a03e57070>"
      ]
     },
     "execution_count": 6,
     "metadata": {},
     "output_type": "execute_result"
    },
    {
     "data": {
      "image/png": "[encoded data removed]",
      "text/plain": [
       "<Figure size 360x360 with 1 Axes>"
      ]
     },
     "metadata": {
      "needs_background": "light"
     },
     "output_type": "display_data"
    }
   ],
   "source": [
    "sns.displot(pm_df.loc[:, 'Exercise'])"
   ]
  },
  {
   "cell_type": "markdown",
   "id": "d39a229c",
   "metadata": {},
   "source": [
    "Perhaps avoid exercise 4 as an example when designing feature selection and ML methods, due to the significantly lower number of datapoints."
   ]
  },
  {
   "cell_type": "markdown",
   "id": "4e04f1c0",
   "metadata": {},
   "source": [
    "### Exploring Total Pressure and Plotting Timeseries"
   ]
  },
  {
   "cell_type": "code",
   "execution_count": 7,
   "id": "40167d13",
   "metadata": {},
   "outputs": [
    {
     "data": {
      "text/plain": [
       "<seaborn.axisgrid.FacetGrid at 0x7f7a12e5a400>"
      ]
     },
     "execution_count": 7,
     "metadata": {},
     "output_type": "execute_result"
    },
    {
     "data": {
      "image/png": "[encoded data removed]",
      "text/plain": [
       "<Figure size 360x360 with 1 Axes>"
      ]
     },
     "metadata": {
      "needs_background": "light"
     },
     "output_type": "display_data"
    }
   ],
   "source": [
    "# plotting distribution of total pressure\n",
    "sns.displot(pm_df.loc[:, 'Total_p'])"
   ]
  },
  {
   "cell_type": "markdown",
   "id": "57ccd304",
   "metadata": {},
   "source": [
    "The most common total pressure is zero i.e. when there is no subject on the mat (including jumps)."
   ]
  },
  {
   "cell_type": "code",
   "execution_count": 8,
   "id": "6083d3a3",
   "metadata": {
    "scrolled": false
   },
   "outputs": [
    {
     "data": {
      "image/png": "[encoded data removed]",
      "text/plain": [
       "<Figure size 432x288 with 7 Axes>"
      ]
     },
     "metadata": {
      "needs_background": "light"
     },
     "output_type": "display_data"
    }
   ],
   "source": [
    "# plotting total pressure against time\n",
    "\n",
    "whichsubject = 1\n",
    "whichexercise = 1\n",
    "numexercise = 7\n",
    "\n",
    "fig, ax = plt.subplots(numexercise)\n",
    "\n",
    "for i in range(1,numexercise+1):\n",
    "    exercise = pm_df.loc[(pm_df['Subject'] == whichsubject) & (pm_df['Exercise'] == i)]\n",
    "    ax[i-1].plot(exercise.loc[:,'r_Time'], exercise.loc[:,'Total_p']) #plot relative time against total pressure\n",
    "    #ax[i-1].get_yaxis().set_visible(False) #hide y axis\n",
    "    ax[i-1].get_xaxis().set_visible(False) #hide x axis\n",
    "    ax[i-1].title.set_text(\"Exercise {}\".format(i)) #set titles per subplot according to exercise number\n",
    "    plt.subplots_adjust(top=2, hspace=0.75) #adjust spacing between subplots\n",
    "\n",
    "\n"
   ]
  },
  {
   "cell_type": "markdown",
   "id": "e32b29f4",
   "metadata": {},
   "source": [
    "Each exercise has its own pattern of total pressure over time, producing some very distinctive repetitive shapes."
   ]
  },
  {
   "cell_type": "markdown",
   "id": "114df3dc",
   "metadata": {},
   "source": [
    "### Next see Part 3 for feature selection and how this affects the performance of a ML Model"
   ]
  }
 ],
 "metadata": {
  "kernelspec": {
   "display_name": "Python 3 (ipykernel)",
   "language": "python",
   "name": "python3"
  },
  "language_info": {
   "codemirror_mode": {
    "name": "ipython",
    "version": 3
   },
   "file_extension": ".py",
   "mimetype": "text/x-python",
   "name": "python",
   "nbconvert_exporter": "python",
   "pygments_lexer": "ipython3",
   "version": "3.9.7"
  }
 },
 "nbformat": 4,
 "nbformat_minor": 5
}
