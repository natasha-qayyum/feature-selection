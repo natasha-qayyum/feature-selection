{
 "cells": [
  {
   "cell_type": "markdown",
   "id": "23fdbc81",
   "metadata": {},
   "source": [
    "# Human Activity Recognition Model - Part 3\n",
    "## Reducing the number of features used, in order to optimise a machine learning human activity recognition model\n",
    "\n",
    "#### Natasha Qayyum - 2021\n",
    "\n",
    "Background: <br>\n",
    "MEx is a multimodel dataset containing data for 7 different physiotherapy exercises performed by 30 subjects, recorded by four sensor modalities. This analysis utilises the data recorded by one of these modalities, the Sensing Tex Pressure Mat (sampling frequency 15Hz, frame size 32 * 16), which is both rich and sparse.\n",
    "\n",
    "The aim is to intelligently select a subset of the 512 features, to train a machine learning (ML) model whilst demonstrating a beneficial application of Feature Selection in the pre-processing steps. The ML model seeks to predict which physiotherapy exercise a subject is performing on the pressure mat, according to sensor readings. \n",
    "\n",
    "Benefits of feature selection include:\n",
    "- Reduced training times\n",
    "- Reduced computational requirements\n",
    "- Remove irrelevant features, for example those pressure points which have never picked up a signal\n",
    "- Reduce overfitting, seperating the signal from the noise\n"
   ]
  },
  {
   "cell_type": "markdown",
   "id": "8b8cd14d",
   "metadata": {},
   "source": [
    "### Importing dependency packages"
   ]
  },
  {
   "cell_type": "code",
   "execution_count": 1,
   "id": "e196276c",
   "metadata": {},
   "outputs": [],
   "source": [
    "import numpy as np\n",
    "import pandas as pd\n",
    "import matplotlib.pyplot as plt\n",
    "import seaborn as sns\n",
    "from tqdm.notebook import tqdm\n",
    "from timeit import default_timer as timer\n",
    "import sklearn as sklearn"
   ]
  },
  {
   "cell_type": "markdown",
   "id": "d66aefbe",
   "metadata": {},
   "source": [
    "### Importing dataset and creating useful data frames"
   ]
  },
  {
   "cell_type": "code",
   "execution_count": 2,
   "id": "d194a4a3",
   "metadata": {},
   "outputs": [],
   "source": [
    "pm_df = pd.read_csv('all_pm_data.csv')\n",
    "pm_df.rename(columns={'Unnamed: 0': 'SE_datapoint'}, inplace=True) "
   ]
  },
  {
   "cell_type": "code",
   "execution_count": 3,
   "id": "830c27f7",
   "metadata": {},
   "outputs": [],
   "source": [
    "#select data for one exercise performed by one subject\n",
    "sub1ex2_df = pm_df.loc[(pm_df['Subject'] == 1) & (pm_df['Exercise'] == 2)]"
   ]
  },
  {
   "cell_type": "code",
   "execution_count": 4,
   "id": "5c567ff5",
   "metadata": {
    "scrolled": true
   },
   "outputs": [],
   "source": [
    "#one exercise by one subject\n",
    "#select only the pressure readings, which will be used as a starting point for feature reduction\n",
    "sub1ex2 = sub1ex2_df.iloc[:, 6:518].copy()"
   ]
  },
  {
   "cell_type": "code",
   "execution_count": 5,
   "id": "d3b74845",
   "metadata": {},
   "outputs": [
    {
     "data": {
      "text/html": [
       "<div>\n",
       "<style scoped>\n",
       "    .dataframe tbody tr th:only-of-type {\n",
       "        vertical-align: middle;\n",
       "    }\n",
       "\n",
       "    .dataframe tbody tr th {\n",
       "        vertical-align: top;\n",
       "    }\n",
       "\n",
       "    .dataframe thead th {\n",
       "        text-align: right;\n",
       "    }\n",
       "</style>\n",
       "<table border=\"1\" class=\"dataframe\">\n",
       "  <thead>\n",
       "    <tr style=\"text-align: right;\">\n",
       "      <th></th>\n",
       "      <th>1_1</th>\n",
       "      <th>1_2</th>\n",
       "      <th>1_3</th>\n",
       "      <th>1_4</th>\n",
       "      <th>1_5</th>\n",
       "      <th>1_6</th>\n",
       "      <th>1_7</th>\n",
       "      <th>1_8</th>\n",
       "      <th>1_9</th>\n",
       "      <th>1_10</th>\n",
       "      <th>...</th>\n",
       "      <th>32_7</th>\n",
       "      <th>32_8</th>\n",
       "      <th>32_9</th>\n",
       "      <th>32_10</th>\n",
       "      <th>32_11</th>\n",
       "      <th>32_12</th>\n",
       "      <th>32_13</th>\n",
       "      <th>32_14</th>\n",
       "      <th>32_15</th>\n",
       "      <th>32_16</th>\n",
       "    </tr>\n",
       "  </thead>\n",
       "  <tbody>\n",
       "    <tr>\n",
       "      <th>0</th>\n",
       "      <td>20.0</td>\n",
       "      <td>3.0</td>\n",
       "      <td>2.0</td>\n",
       "      <td>0.0</td>\n",
       "      <td>0.0</td>\n",
       "      <td>0.0</td>\n",
       "      <td>72.0</td>\n",
       "      <td>1493.0</td>\n",
       "      <td>1949.0</td>\n",
       "      <td>0.0</td>\n",
       "      <td>...</td>\n",
       "      <td>104.0</td>\n",
       "      <td>93.0</td>\n",
       "      <td>58.0</td>\n",
       "      <td>78.0</td>\n",
       "      <td>53.0</td>\n",
       "      <td>192.0</td>\n",
       "      <td>388.0</td>\n",
       "      <td>330.0</td>\n",
       "      <td>123.0</td>\n",
       "      <td>6.0</td>\n",
       "    </tr>\n",
       "    <tr>\n",
       "      <th>1</th>\n",
       "      <td>20.0</td>\n",
       "      <td>3.0</td>\n",
       "      <td>2.0</td>\n",
       "      <td>0.0</td>\n",
       "      <td>0.0</td>\n",
       "      <td>0.0</td>\n",
       "      <td>72.0</td>\n",
       "      <td>1493.0</td>\n",
       "      <td>1949.0</td>\n",
       "      <td>0.0</td>\n",
       "      <td>...</td>\n",
       "      <td>106.0</td>\n",
       "      <td>93.0</td>\n",
       "      <td>64.0</td>\n",
       "      <td>78.0</td>\n",
       "      <td>53.0</td>\n",
       "      <td>195.0</td>\n",
       "      <td>390.0</td>\n",
       "      <td>330.0</td>\n",
       "      <td>119.0</td>\n",
       "      <td>7.0</td>\n",
       "    </tr>\n",
       "    <tr>\n",
       "      <th>2</th>\n",
       "      <td>20.0</td>\n",
       "      <td>3.0</td>\n",
       "      <td>2.0</td>\n",
       "      <td>0.0</td>\n",
       "      <td>0.0</td>\n",
       "      <td>0.0</td>\n",
       "      <td>72.0</td>\n",
       "      <td>1493.0</td>\n",
       "      <td>1949.0</td>\n",
       "      <td>0.0</td>\n",
       "      <td>...</td>\n",
       "      <td>108.0</td>\n",
       "      <td>94.0</td>\n",
       "      <td>66.0</td>\n",
       "      <td>79.0</td>\n",
       "      <td>55.0</td>\n",
       "      <td>196.0</td>\n",
       "      <td>391.0</td>\n",
       "      <td>324.0</td>\n",
       "      <td>106.0</td>\n",
       "      <td>5.0</td>\n",
       "    </tr>\n",
       "    <tr>\n",
       "      <th>3</th>\n",
       "      <td>20.0</td>\n",
       "      <td>3.0</td>\n",
       "      <td>2.0</td>\n",
       "      <td>0.0</td>\n",
       "      <td>0.0</td>\n",
       "      <td>0.0</td>\n",
       "      <td>72.0</td>\n",
       "      <td>1493.0</td>\n",
       "      <td>1949.0</td>\n",
       "      <td>0.0</td>\n",
       "      <td>...</td>\n",
       "      <td>125.0</td>\n",
       "      <td>94.0</td>\n",
       "      <td>64.0</td>\n",
       "      <td>79.0</td>\n",
       "      <td>55.0</td>\n",
       "      <td>194.0</td>\n",
       "      <td>391.0</td>\n",
       "      <td>321.0</td>\n",
       "      <td>114.0</td>\n",
       "      <td>6.0</td>\n",
       "    </tr>\n",
       "    <tr>\n",
       "      <th>4</th>\n",
       "      <td>20.0</td>\n",
       "      <td>3.0</td>\n",
       "      <td>2.0</td>\n",
       "      <td>0.0</td>\n",
       "      <td>0.0</td>\n",
       "      <td>0.0</td>\n",
       "      <td>72.0</td>\n",
       "      <td>1493.0</td>\n",
       "      <td>1949.0</td>\n",
       "      <td>0.0</td>\n",
       "      <td>...</td>\n",
       "      <td>129.0</td>\n",
       "      <td>95.0</td>\n",
       "      <td>64.0</td>\n",
       "      <td>79.0</td>\n",
       "      <td>55.0</td>\n",
       "      <td>194.0</td>\n",
       "      <td>381.0</td>\n",
       "      <td>321.0</td>\n",
       "      <td>114.0</td>\n",
       "      <td>6.0</td>\n",
       "    </tr>\n",
       "  </tbody>\n",
       "</table>\n",
       "<p>5 rows × 512 columns</p>\n",
       "</div>"
      ],
      "text/plain": [
       "    1_1  1_2  1_3  1_4  1_5  1_6   1_7     1_8     1_9  1_10  ...   32_7  \\\n",
       "0  20.0  3.0  2.0  0.0  0.0  0.0  72.0  1493.0  1949.0   0.0  ...  104.0   \n",
       "1  20.0  3.0  2.0  0.0  0.0  0.0  72.0  1493.0  1949.0   0.0  ...  106.0   \n",
       "2  20.0  3.0  2.0  0.0  0.0  0.0  72.0  1493.0  1949.0   0.0  ...  108.0   \n",
       "3  20.0  3.0  2.0  0.0  0.0  0.0  72.0  1493.0  1949.0   0.0  ...  125.0   \n",
       "4  20.0  3.0  2.0  0.0  0.0  0.0  72.0  1493.0  1949.0   0.0  ...  129.0   \n",
       "\n",
       "   32_8  32_9  32_10  32_11  32_12  32_13  32_14  32_15  32_16  \n",
       "0  93.0  58.0   78.0   53.0  192.0  388.0  330.0  123.0    6.0  \n",
       "1  93.0  64.0   78.0   53.0  195.0  390.0  330.0  119.0    7.0  \n",
       "2  94.0  66.0   79.0   55.0  196.0  391.0  324.0  106.0    5.0  \n",
       "3  94.0  64.0   79.0   55.0  194.0  391.0  321.0  114.0    6.0  \n",
       "4  95.0  64.0   79.0   55.0  194.0  381.0  321.0  114.0    6.0  \n",
       "\n",
       "[5 rows x 512 columns]"
      ]
     },
     "execution_count": 5,
     "metadata": {},
     "output_type": "execute_result"
    }
   ],
   "source": [
    "# create df copy of only the sensor readings for all exercises and all subjects\n",
    "#this will be used for the final feature selection.\n",
    "#and will be used to split into training and testing data\n",
    "pm_df_fs = pm_df.drop(columns = ['SE_datapoint', 'Subject', 'Exercise', 'a_Time', 'r_Time', 'Total_p'])\n",
    "\n",
    "pm_df_fs.head()"
   ]
  },
  {
   "cell_type": "markdown",
   "id": "c287b0d5",
   "metadata": {},
   "source": [
    "## Feature Selection\n",
    "### Measuring the regularity and predictability of each feature using approximate entropy (ApEn), to aid selection of the most 'useful' dimensions for a ML model. \n",
    "Beginning with one subject and exercise to prove concept. This can then be applied to the entire dataset."
   ]
  },
  {
   "cell_type": "code",
   "execution_count": 6,
   "id": "52ef717b",
   "metadata": {},
   "outputs": [],
   "source": [
    "# define a function that calculates the approximate entropy\n",
    "# from https://en.wikipedia.org/wiki/Approximate_entropy\n",
    "\n",
    "def ApEn(U, m, r) -> float:\n",
    "    \"\"\"Approximate_entropy.\"\"\"\n",
    "\n",
    "    def _maxdist(x_i, x_j):\n",
    "        return max([abs(ua - va) for ua, va in zip(x_i, x_j)])\n",
    "\n",
    "    def _phi(m):\n",
    "        x = [[U[j] for j in range(i, i + m - 1 + 1)] for i in range(N - m + 1)]\n",
    "        C = [\n",
    "            len([1 for x_j in x if _maxdist(x_i, x_j) <= r]) / (N - m + 1.0)\n",
    "            for x_i in x\n",
    "        ]\n",
    "        return (N - m + 1.0) ** (-1) * sum(np.log(C))\n",
    "\n",
    "    N = len(U)\n",
    "\n",
    "    return abs(_phi(m + 1) - _phi(m))"
   ]
  },
  {
   "cell_type": "code",
   "execution_count": 7,
   "id": "b5f8f27c",
   "metadata": {},
   "outputs": [
    {
     "data": {
      "application/vnd.jupyter.widget-view+json": {
       "model_id": "b468aa574e084c2a80813d2334b6becb",
       "version_major": 2,
       "version_minor": 0
      },
      "text/plain": [
       "  0%|          | 0/512 [00:00<?, ?it/s]"
      ]
     },
     "metadata": {},
     "output_type": "display_data"
    },
    {
     "data": {
      "text/plain": [
       "[0.27377374921694875,\n",
       " 0.3913810531373896,\n",
       " 0.6527378856128401,\n",
       " 0.0,\n",
       " 0.0,\n",
       " 0.0,\n",
       " 0.0,\n",
       " 0.0,\n",
       " 0.0,\n",
       " 0.0,\n",
       " 0.0,\n",
       " 0.0,\n",
       " 0.0,\n",
       " 0.037800390895571315,\n",
       " 0.5921682797801928,\n",
       " 0.637593084542579,\n",
       " 0.11361546581479731,\n",
       " 0.6503871454794021,\n",
       " 0.6156049946055591,\n",
       " 0.0,\n",
       " 0.0,\n",
       " 0.0,\n",
       " 0.0,\n",
       " 0.0,\n",
       " 0.0,\n",
       " 0.0,\n",
       " 0.0,\n",
       " 0.0,\n",
       " 0.0,\n",
       " 0.05578404516241961,\n",
       " 0.5704501066086607,\n",
       " 0.6413757384753813,\n",
       " 0.06385116068627963,\n",
       " 0.8630025492937188,\n",
       " 0.6713658669724358,\n",
       " 0.0,\n",
       " 0.0,\n",
       " 0.0,\n",
       " 0.0,\n",
       " 0.0,\n",
       " 0.0,\n",
       " 0.0,\n",
       " 0.0,\n",
       " 0.0,\n",
       " 0.0,\n",
       " 0.06919261842201879,\n",
       " 0.45565711253578023,\n",
       " 0.5987691807831199,\n",
       " 0.0,\n",
       " 0.0,\n",
       " 0.0,\n",
       " 0.0,\n",
       " 0.0,\n",
       " 0.0,\n",
       " 0.0,\n",
       " 0.0,\n",
       " 0.0,\n",
       " 0.0,\n",
       " 0.0,\n",
       " 0.0,\n",
       " 0.0,\n",
       " 0.0,\n",
       " 0.0,\n",
       " 0.0,\n",
       " 0.002029697965761551,\n",
       " 0.0,\n",
       " 0.0,\n",
       " 0.0,\n",
       " 0.0,\n",
       " 0.0,\n",
       " 0.0,\n",
       " 0.0,\n",
       " 0.0,\n",
       " 0.0,\n",
       " 0.0,\n",
       " 0.0,\n",
       " 0.0,\n",
       " 0.0,\n",
       " 0.0,\n",
       " 0.0,\n",
       " 0.0,\n",
       " 0.0,\n",
       " 0.0,\n",
       " 0.0,\n",
       " 0.0,\n",
       " 0.0,\n",
       " 0.0,\n",
       " 0.0,\n",
       " 0.0,\n",
       " 0.0,\n",
       " 0.0,\n",
       " 0.0,\n",
       " 0.0,\n",
       " 0.0,\n",
       " 0.0008963656278370515,\n",
       " 0.0,\n",
       " 0.0036621482632497246,\n",
       " 0.0,\n",
       " 0.0,\n",
       " 0.0,\n",
       " 0.0,\n",
       " 0.0,\n",
       " 0.0,\n",
       " 0.0,\n",
       " 0.0,\n",
       " 0.0,\n",
       " 0.0,\n",
       " 0.0,\n",
       " 0.0,\n",
       " 0.0,\n",
       " 0.0,\n",
       " 0.0,\n",
       " 0.0,\n",
       " 0.0,\n",
       " 0.0,\n",
       " 0.0,\n",
       " 0.0,\n",
       " 0.0,\n",
       " 0.0,\n",
       " 0.0,\n",
       " 0.0,\n",
       " 0.0,\n",
       " 0.0,\n",
       " 0.0,\n",
       " 0.0,\n",
       " 0.013526509522749707,\n",
       " 0.0,\n",
       " 0.0,\n",
       " 0.002195841358916117,\n",
       " 0.0,\n",
       " 0.0,\n",
       " 0.0,\n",
       " 0.0,\n",
       " 0.0,\n",
       " 0.0,\n",
       " 0.0,\n",
       " 0.0,\n",
       " 0.0,\n",
       " 0.0,\n",
       " 0.0,\n",
       " 0.0,\n",
       " 0.0,\n",
       " 0.0,\n",
       " 0.0,\n",
       " 0.002060280927238014,\n",
       " 0.0,\n",
       " 0.0,\n",
       " 0.0,\n",
       " 0.0,\n",
       " 0.0,\n",
       " 0.0,\n",
       " 0.0,\n",
       " 0.0,\n",
       " 0.0,\n",
       " 0.0,\n",
       " 0.0,\n",
       " 0.0,\n",
       " 0.0,\n",
       " 0.0,\n",
       " 0.0,\n",
       " 0.002117680243433019,\n",
       " 0.0,\n",
       " 0.0,\n",
       " 0.0,\n",
       " 0.0,\n",
       " 0.0,\n",
       " 0.0,\n",
       " 0.0,\n",
       " 0.0,\n",
       " 0.0,\n",
       " 0.0,\n",
       " 0.0,\n",
       " 0.0,\n",
       " 0.1278458332551337,\n",
       " 0.0,\n",
       " 0.0,\n",
       " 0.0020937728673002297,\n",
       " 0.0,\n",
       " 0.0,\n",
       " 0.0,\n",
       " 0.0,\n",
       " 0.0,\n",
       " 0.0,\n",
       " 0.0,\n",
       " 0.0,\n",
       " 0.0,\n",
       " 0.0,\n",
       " 0.0,\n",
       " 0.0,\n",
       " 0.136803393758833,\n",
       " 0.0,\n",
       " 0.0,\n",
       " 0.001888533303351069,\n",
       " 0.02034261167042188,\n",
       " 0.0,\n",
       " 0.0,\n",
       " 0.0,\n",
       " 0.0,\n",
       " 0.0,\n",
       " 0.0,\n",
       " 0.0,\n",
       " 0.0,\n",
       " 0.0,\n",
       " 0.0,\n",
       " 0.0,\n",
       " 0.21888878855362415,\n",
       " 0.04662097744538235,\n",
       " 0.008132669045758406,\n",
       " 0.0,\n",
       " 0.0,\n",
       " 0.0,\n",
       " 0.0,\n",
       " 0.0,\n",
       " 0.0,\n",
       " 0.0,\n",
       " 0.0,\n",
       " 0.0,\n",
       " 0.0,\n",
       " 0.0,\n",
       " 0.0,\n",
       " 0.0,\n",
       " 0.2291652346281452,\n",
       " 0.0064141961159431705,\n",
       " 0.0,\n",
       " 0.0,\n",
       " 0.0,\n",
       " 0.0,\n",
       " 0.0,\n",
       " 0.0,\n",
       " 0.0,\n",
       " 0.0,\n",
       " 0.0,\n",
       " 0.0,\n",
       " 0.0,\n",
       " 0.0,\n",
       " 0.0,\n",
       " 0.0,\n",
       " 0.078905321047787,\n",
       " 0.0,\n",
       " 0.0,\n",
       " 0.0,\n",
       " 0.0,\n",
       " 0.0,\n",
       " 0.0,\n",
       " 0.0,\n",
       " 0.0,\n",
       " 0.0,\n",
       " 0.0,\n",
       " 0.0,\n",
       " 0.0,\n",
       " 0.0,\n",
       " 0.0,\n",
       " 0.0,\n",
       " 0.0,\n",
       " 0.0,\n",
       " 0.0,\n",
       " 0.0,\n",
       " 0.11637825340208358,\n",
       " 0.20698754268461794,\n",
       " 0.19014063272485227,\n",
       " 0.3607208948779821,\n",
       " 0.4836084929496143,\n",
       " 0.22823041110190134,\n",
       " 0.32547792788387886,\n",
       " 0.2768740816855719,\n",
       " 0.5648454972181711,\n",
       " 0.5403861273476154,\n",
       " 0.3929124786088627,\n",
       " 0.4790959608768648,\n",
       " 0.8181897673185587,\n",
       " 0.1772565664076362,\n",
       " 0.1200843118506722,\n",
       " 0.0,\n",
       " 0.1758279969431571,\n",
       " 0.2926222225656645,\n",
       " 0.28725126788296196,\n",
       " 0.2656982241354635,\n",
       " 0.25187336872832633,\n",
       " 0.1894219350871289,\n",
       " 0.14819549281253863,\n",
       " 0.16407729006814664,\n",
       " 0.1900125123208376,\n",
       " 0.2366673430247297,\n",
       " 0.19852221104442958,\n",
       " 0.28519034599971116,\n",
       " 0.32788740642341274,\n",
       " 0.2778103737444084,\n",
       " 0.10810883126343829,\n",
       " 0.0,\n",
       " 0.18921432616480538,\n",
       " 0.30637285135146497,\n",
       " 0.29070001331872675,\n",
       " 0.30724302661040026,\n",
       " 0.2678684771579145,\n",
       " 0.27578259328470267,\n",
       " 0.18804266907632883,\n",
       " 0.1631585419793562,\n",
       " 0.23031580227753423,\n",
       " 0.3441188576013885,\n",
       " 0.2904025540098032,\n",
       " 0.3804559615855134,\n",
       " 0.40154217815436777,\n",
       " 0.2785395567080773,\n",
       " 0.3815918154677367,\n",
       " 0.0,\n",
       " 0.13790019351223137,\n",
       " 0.2826594975566341,\n",
       " 0.2753571090739799,\n",
       " 0.32807423629151566,\n",
       " 0.25962982129436396,\n",
       " 0.3136277664283691,\n",
       " 0.1992651138521797,\n",
       " 0.17199232744505988,\n",
       " 0.1984445830924213,\n",
       " 0.21428675326640567,\n",
       " 0.289612013788485,\n",
       " 0.36014184631831325,\n",
       " 0.30961751809939275,\n",
       " 0.2758627890213028,\n",
       " 0.05357852712023953,\n",
       " 0.0,\n",
       " 0.12957925362685052,\n",
       " 0.26261026185012093,\n",
       " 0.2487095837342257,\n",
       " 0.3522991866309444,\n",
       " 0.3788924437407326,\n",
       " 0.3070835963833982,\n",
       " 0.20922692047742997,\n",
       " 0.2368221687621186,\n",
       " 0.2805185357223934,\n",
       " 0.19554124000605588,\n",
       " 0.26043989907564447,\n",
       " 0.3453039481811446,\n",
       " 0.30498417451159887,\n",
       " 0.28078539191043883,\n",
       " 0.045701311479067946,\n",
       " 0.0,\n",
       " 0.02311999585470076,\n",
       " 0.17902862516572182,\n",
       " 0.145686780912766,\n",
       " 0.3502203392292855,\n",
       " 0.5175459634336197,\n",
       " 0.33165309245664765,\n",
       " 0.46075221749531403,\n",
       " 0.359577613777339,\n",
       " 0.48389296805638704,\n",
       " 0.46650619499486634,\n",
       " 0.4556212816870264,\n",
       " 0.4863296419209986,\n",
       " 0.20102740362908378,\n",
       " 0.18709369476648807,\n",
       " 0.0,\n",
       " 0.0,\n",
       " 0.40568458106198046,\n",
       " 0.47306700563422455,\n",
       " 0.400437864429386,\n",
       " 0.6666815284525196,\n",
       " 0.7797955106308354,\n",
       " 0.3571559792477901,\n",
       " 0.645034480693548,\n",
       " 0.5227926931849414,\n",
       " 0.46961183419259633,\n",
       " 0.5727733803559278,\n",
       " 0.7334945051192712,\n",
       " 0.9683497382546875,\n",
       " 0.5626178141589322,\n",
       " 0.4172580152023184,\n",
       " 0.10086985160658246,\n",
       " 0.0,\n",
       " 0.0015088988140931282,\n",
       " 0.06394632582634949,\n",
       " 0.041912134168086285,\n",
       " 0.13490974565363867,\n",
       " 0.2500472864778369,\n",
       " 0.22481029289480603,\n",
       " 0.5993698606125517,\n",
       " 0.695954125493877,\n",
       " 0.9623203571727643,\n",
       " 0.9487484469288354,\n",
       " 1.0771788245899572,\n",
       " 0.906935912537989,\n",
       " 0.06164749135419567,\n",
       " 0.08587269599091113,\n",
       " 0.0,\n",
       " 0.0,\n",
       " 0.0,\n",
       " 0.0,\n",
       " 0.0,\n",
       " 0.0,\n",
       " 0.0,\n",
       " 0.0,\n",
       " 0.0,\n",
       " 0.0,\n",
       " 0.0,\n",
       " 0.0,\n",
       " 0.0,\n",
       " 0.0,\n",
       " 0.0,\n",
       " 0.0,\n",
       " 0.0,\n",
       " 0.0,\n",
       " 0.0,\n",
       " 0.0,\n",
       " 0.0,\n",
       " 0.0,\n",
       " 0.0,\n",
       " 0.0,\n",
       " 0.0,\n",
       " 0.0,\n",
       " 0.0,\n",
       " 0.0,\n",
       " 0.0,\n",
       " 0.0,\n",
       " 0.0,\n",
       " 0.0,\n",
       " 0.0,\n",
       " 0.0,\n",
       " 0.0,\n",
       " 0.0,\n",
       " 0.0,\n",
       " 0.0,\n",
       " 0.0,\n",
       " 0.0,\n",
       " 0.0,\n",
       " 0.0,\n",
       " 0.0,\n",
       " 0.0,\n",
       " 0.0,\n",
       " 0.0,\n",
       " 0.0,\n",
       " 0.0,\n",
       " 0.0,\n",
       " 0.0,\n",
       " 0.0,\n",
       " 0.0,\n",
       " 0.0,\n",
       " 0.0,\n",
       " 0.0,\n",
       " 0.0,\n",
       " 0.0,\n",
       " 0.0,\n",
       " 0.0,\n",
       " 0.0,\n",
       " 0.0,\n",
       " 0.0,\n",
       " 0.0,\n",
       " 0.0,\n",
       " 0.0,\n",
       " 0.0,\n",
       " 0.5661263986391327,\n",
       " 0.4154674702649399,\n",
       " 0.24996916288740523,\n",
       " 0.5374428690393245,\n",
       " 0.5400221532960479,\n",
       " 0.3049419307532317,\n",
       " 0.7187217741975918,\n",
       " 0.5360527625124694,\n",
       " 0.8582859115387698,\n",
       " 0.72694723779136,\n",
       " 0.6398671156925375,\n",
       " 0.5997641568092957,\n",
       " 0.4331977216073315,\n",
       " 0.3786902965196641,\n",
       " 0.2542781070157474,\n",
       " 0.0,\n",
       " 0.8114662800575281,\n",
       " 0.5674375687728741,\n",
       " 0.4642822487395035,\n",
       " 0.6329592441223402,\n",
       " 0.5750692325261575,\n",
       " 0.2936158308112584,\n",
       " 0.6888359756275566,\n",
       " 0.5157703649122531,\n",
       " 1.136100023908507,\n",
       " 0.8921451494605335,\n",
       " 0.676185453927955,\n",
       " 0.7915898755369115,\n",
       " 0.6047594888882566,\n",
       " 0.5965454629763629,\n",
       " 0.6817118461197103,\n",
       " 0.0,\n",
       " 0.9081930018778364,\n",
       " 0.570656923248642,\n",
       " 0.48693964547394764,\n",
       " 0.6752865378150616,\n",
       " 0.5758416479552375,\n",
       " 0.3030922157091007,\n",
       " 0.6800897614730532,\n",
       " 0.6322350011378841,\n",
       " 1.127139998592078,\n",
       " 0.7747058106943903,\n",
       " 0.7663266703406943,\n",
       " 0.7621814454999694,\n",
       " 0.7392603082132334,\n",
       " 0.6221855641952345,\n",
       " 0.7848695558365897,\n",
       " 0.0,\n",
       " 0.4102684402917265,\n",
       " 0.1542031550246994,\n",
       " 0.12672997059133606,\n",
       " 0.3652527296267727,\n",
       " 0.438301386636311,\n",
       " 0.2971204561995877,\n",
       " 0.5478313129103691,\n",
       " 0.7168530846931627,\n",
       " 0.6432779994167976,\n",
       " 0.23733471576583098,\n",
       " 0.4614528068100281,\n",
       " 0.2914602680308813,\n",
       " 0.548762642808208,\n",
       " 0.5639009959025221,\n",
       " 0.2890843708302768]"
      ]
     },
     "execution_count": 7,
     "metadata": {},
     "output_type": "execute_result"
    }
   ],
   "source": [
    "# calculate the ApEn for each feature\n",
    "\n",
    "column_apen = []\n",
    "\n",
    "for i in tqdm(range(len(sub1ex2.columns))):\n",
    "    column_apen.append(ApEn(sub1ex2.iloc[:,i].values, 2, 3))\n",
    "    \n",
    "column_apen"
   ]
  },
  {
   "cell_type": "code",
   "execution_count": 8,
   "id": "9e14621c",
   "metadata": {},
   "outputs": [
    {
     "data": {
      "text/plain": [
       "<seaborn.axisgrid.FacetGrid at 0x7f98da6b6910>"
      ]
     },
     "execution_count": 8,
     "metadata": {},
     "output_type": "execute_result"
    },
    {
     "data": {
      "image/png": "[encoded data removed]",
      "text/plain": [
       "<Figure size 360x360 with 1 Axes>"
      ]
     },
     "metadata": {
      "needs_background": "light"
     },
     "output_type": "display_data"
    }
   ],
   "source": [
    "#plot the distribution of ApEn values\n",
    "sns.displot(column_apen)"
   ]
  },
  {
   "cell_type": "markdown",
   "id": "9fd6592f",
   "metadata": {},
   "source": [
    "Over half of all features have an ApEn value of zero or near zero, meaning they are so regular that they are predictable all the time and offer no meaningful information."
   ]
  },
  {
   "cell_type": "code",
   "execution_count": 9,
   "id": "da4a1849",
   "metadata": {},
   "outputs": [
    {
     "name": "stdout",
     "output_type": "stream",
     "text": [
      "Number of completely predictable columns: 298\n",
      "Number of useful columns: 214\n"
     ]
    }
   ],
   "source": [
    "#count the number of columns with ApEn = 0 and number with ApEn > 0.\n",
    "\n",
    "numZeros = 0\n",
    "numNonZeros = 0\n",
    "\n",
    "for i in range(len(column_apen)):\n",
    "    if column_apen[i] == 0:\n",
    "        numZeros = numZeros + 1\n",
    "    else:\n",
    "        numNonZeros = numNonZeros + 1\n",
    "\n",
    "print(\"Number of completely predictable columns: {}\".format(numZeros))\n",
    "print(\"Number of useful columns: {}\".format(numNonZeros))"
   ]
  },
  {
   "cell_type": "code",
   "execution_count": 10,
   "id": "226e66c2",
   "metadata": {},
   "outputs": [
    {
     "data": {
      "text/plain": [
       "0.0"
      ]
     },
     "execution_count": 10,
     "metadata": {},
     "output_type": "execute_result"
    }
   ],
   "source": [
    "#calculate the ApEn for a specified feature\n",
    "ApEn(sub1ex2['1_1'].values, 2, 100) #parameters: m = 2 and r = 100. m represents the length of each compared run of data (essentially a window), and r specifies a filtering level."
   ]
  },
  {
   "cell_type": "markdown",
   "id": "e87f7d7d",
   "metadata": {},
   "source": [
    "### Using an out-the-box feature selection module to compare manual ApEn results to\n",
    "Using Mutual Information (MI) regression. This method is an example of univariate feature selection, whereby the best features are selected based on univariate statistical tests. We compare each feature (pressure reading of a specific sensor) to the target variable (total pressure), to see whether there is any statistically significant relationship between them. It is also called analysis of variance (ANOVA), commonly used in Biological applications, where I first came across this methodology."
   ]
  },
  {
   "cell_type": "code",
   "execution_count": 11,
   "id": "d428493a",
   "metadata": {},
   "outputs": [
    {
     "data": {
      "text/plain": [
       "<seaborn.axisgrid.FacetGrid at 0x7f98da841c70>"
      ]
     },
     "execution_count": 11,
     "metadata": {},
     "output_type": "execute_result"
    },
    {
     "data": {
      "image/png": "[encoded data removed]",
      "text/plain": [
       "<Figure size 360x360 with 1 Axes>"
      ]
     },
     "metadata": {
      "needs_background": "light"
     },
     "output_type": "display_data"
    }
   ],
   "source": [
    "#calculating mutual information between each individual sensor result and the total pressure\n",
    "\n",
    "from sklearn.feature_selection import mutual_info_classif\n",
    "\n",
    "mutInf = sklearn.feature_selection.mutual_info_regression(sub1ex2.values, sub1ex2_df['Total_p'].values)\n",
    "\n",
    "#plotting mutual information against number of features\n",
    "sns.displot(mutInf)\n"
   ]
  },
  {
   "cell_type": "markdown",
   "id": "bc5d4a7d",
   "metadata": {},
   "source": [
    "Again, over half of all features show an MI of zero, indicating the features are independent of, and therefore have no impact on, the total pressure. A higher MI value indicates a higher dependency. <br><br>"
   ]
  },
  {
   "cell_type": "markdown",
   "id": "e27bc53e",
   "metadata": {},
   "source": [
    "### Begin dropping features\n",
    "Reducing the dataframe in a stepwise manner by 30% each time."
   ]
  },
  {
   "cell_type": "code",
   "execution_count": 12,
   "id": "00799eef",
   "metadata": {},
   "outputs": [
    {
     "name": "stdout",
     "output_type": "stream",
     "text": [
      "[100, 70.0, 49.0, 34.3, 24.009999999999998, 16.807, 11.764899999999999, 8.23543, 5.764800999999999, 4.035360699999999, 2.8247524899999994, 1.9773267429999994, 1.3841287200999994]\n"
     ]
    }
   ],
   "source": [
    "#create a list of centiles that will be used to reduce the volume of features in the df\n",
    "\n",
    "#100% of dataset reduced by 30% each time:\n",
    "reduce = 0.3\n",
    "current = 100\n",
    "centiles = []\n",
    "\n",
    "while current > 1:\n",
    "    centiles.append(current)\n",
    "    current = current * (1 - reduce)\n",
    "\n",
    "print(centiles)"
   ]
  },
  {
   "cell_type": "code",
   "execution_count": 13,
   "id": "b7c6b1ac",
   "metadata": {
    "scrolled": true
   },
   "outputs": [
    {
     "name": "stdout",
     "output_type": "stream",
     "text": [
      "(188116, 512)\n"
     ]
    },
    {
     "data": {
      "application/vnd.jupyter.widget-view+json": {
       "model_id": "522293db1c4d4eb7b0419fe7826a6bfc",
       "version_major": 2,
       "version_minor": 0
      },
      "text/plain": [
       "  0%|          | 0/13 [00:00<?, ?it/s]"
      ]
     },
     "metadata": {},
     "output_type": "display_data"
    },
    {
     "name": "stderr",
     "output_type": "stream",
     "text": [
      "/Users/natasha/opt/anaconda3/lib/python3.9/site-packages/sklearn/utils/validation.py:70: FutureWarning: Pass percentile=100 as keyword args. From version 1.0 (renaming of 0.25) passing these as positional arguments will result in an error\n",
      "  warnings.warn(f\"Pass {args_msg} as keyword args. From version \"\n"
     ]
    },
    {
     "name": "stdout",
     "output_type": "stream",
     "text": [
      "Number of features retained: 512\n"
     ]
    },
    {
     "name": "stderr",
     "output_type": "stream",
     "text": [
      "/Users/natasha/opt/anaconda3/lib/python3.9/site-packages/sklearn/utils/validation.py:70: FutureWarning: Pass percentile=70.0 as keyword args. From version 1.0 (renaming of 0.25) passing these as positional arguments will result in an error\n",
      "  warnings.warn(f\"Pass {args_msg} as keyword args. From version \"\n"
     ]
    },
    {
     "name": "stdout",
     "output_type": "stream",
     "text": [
      "Number of features retained: 358\n"
     ]
    },
    {
     "name": "stderr",
     "output_type": "stream",
     "text": [
      "/Users/natasha/opt/anaconda3/lib/python3.9/site-packages/sklearn/utils/validation.py:70: FutureWarning: Pass percentile=49.0 as keyword args. From version 1.0 (renaming of 0.25) passing these as positional arguments will result in an error\n",
      "  warnings.warn(f\"Pass {args_msg} as keyword args. From version \"\n"
     ]
    },
    {
     "name": "stdout",
     "output_type": "stream",
     "text": [
      "Number of features retained: 251\n"
     ]
    },
    {
     "name": "stderr",
     "output_type": "stream",
     "text": [
      "/Users/natasha/opt/anaconda3/lib/python3.9/site-packages/sklearn/utils/validation.py:70: FutureWarning: Pass percentile=34.3 as keyword args. From version 1.0 (renaming of 0.25) passing these as positional arguments will result in an error\n",
      "  warnings.warn(f\"Pass {args_msg} as keyword args. From version \"\n"
     ]
    },
    {
     "name": "stdout",
     "output_type": "stream",
     "text": [
      "Number of features retained: 176\n"
     ]
    },
    {
     "name": "stderr",
     "output_type": "stream",
     "text": [
      "/Users/natasha/opt/anaconda3/lib/python3.9/site-packages/sklearn/utils/validation.py:70: FutureWarning: Pass percentile=24.009999999999998 as keyword args. From version 1.0 (renaming of 0.25) passing these as positional arguments will result in an error\n",
      "  warnings.warn(f\"Pass {args_msg} as keyword args. From version \"\n"
     ]
    },
    {
     "name": "stdout",
     "output_type": "stream",
     "text": [
      "Number of features retained: 123\n"
     ]
    },
    {
     "name": "stderr",
     "output_type": "stream",
     "text": [
      "/Users/natasha/opt/anaconda3/lib/python3.9/site-packages/sklearn/utils/validation.py:70: FutureWarning: Pass percentile=16.807 as keyword args. From version 1.0 (renaming of 0.25) passing these as positional arguments will result in an error\n",
      "  warnings.warn(f\"Pass {args_msg} as keyword args. From version \"\n"
     ]
    },
    {
     "name": "stdout",
     "output_type": "stream",
     "text": [
      "Number of features retained: 86\n"
     ]
    },
    {
     "name": "stderr",
     "output_type": "stream",
     "text": [
      "/Users/natasha/opt/anaconda3/lib/python3.9/site-packages/sklearn/utils/validation.py:70: FutureWarning: Pass percentile=11.764899999999999 as keyword args. From version 1.0 (renaming of 0.25) passing these as positional arguments will result in an error\n",
      "  warnings.warn(f\"Pass {args_msg} as keyword args. From version \"\n"
     ]
    },
    {
     "name": "stdout",
     "output_type": "stream",
     "text": [
      "Number of features retained: 61\n"
     ]
    },
    {
     "name": "stderr",
     "output_type": "stream",
     "text": [
      "/Users/natasha/opt/anaconda3/lib/python3.9/site-packages/sklearn/utils/validation.py:70: FutureWarning: Pass percentile=8.23543 as keyword args. From version 1.0 (renaming of 0.25) passing these as positional arguments will result in an error\n",
      "  warnings.warn(f\"Pass {args_msg} as keyword args. From version \"\n"
     ]
    },
    {
     "name": "stdout",
     "output_type": "stream",
     "text": [
      "Number of features retained: 43\n"
     ]
    },
    {
     "name": "stderr",
     "output_type": "stream",
     "text": [
      "/Users/natasha/opt/anaconda3/lib/python3.9/site-packages/sklearn/utils/validation.py:70: FutureWarning: Pass percentile=5.764800999999999 as keyword args. From version 1.0 (renaming of 0.25) passing these as positional arguments will result in an error\n",
      "  warnings.warn(f\"Pass {args_msg} as keyword args. From version \"\n"
     ]
    },
    {
     "name": "stdout",
     "output_type": "stream",
     "text": [
      "Number of features retained: 30\n"
     ]
    },
    {
     "name": "stderr",
     "output_type": "stream",
     "text": [
      "/Users/natasha/opt/anaconda3/lib/python3.9/site-packages/sklearn/utils/validation.py:70: FutureWarning: Pass percentile=4.035360699999999 as keyword args. From version 1.0 (renaming of 0.25) passing these as positional arguments will result in an error\n",
      "  warnings.warn(f\"Pass {args_msg} as keyword args. From version \"\n"
     ]
    },
    {
     "name": "stdout",
     "output_type": "stream",
     "text": [
      "Number of features retained: 21\n"
     ]
    },
    {
     "name": "stderr",
     "output_type": "stream",
     "text": [
      "/Users/natasha/opt/anaconda3/lib/python3.9/site-packages/sklearn/utils/validation.py:70: FutureWarning: Pass percentile=2.8247524899999994 as keyword args. From version 1.0 (renaming of 0.25) passing these as positional arguments will result in an error\n",
      "  warnings.warn(f\"Pass {args_msg} as keyword args. From version \"\n"
     ]
    },
    {
     "name": "stdout",
     "output_type": "stream",
     "text": [
      "Number of features retained: 15\n"
     ]
    },
    {
     "name": "stderr",
     "output_type": "stream",
     "text": [
      "/Users/natasha/opt/anaconda3/lib/python3.9/site-packages/sklearn/utils/validation.py:70: FutureWarning: Pass percentile=1.9773267429999994 as keyword args. From version 1.0 (renaming of 0.25) passing these as positional arguments will result in an error\n",
      "  warnings.warn(f\"Pass {args_msg} as keyword args. From version \"\n"
     ]
    },
    {
     "name": "stdout",
     "output_type": "stream",
     "text": [
      "Number of features retained: 11\n"
     ]
    },
    {
     "name": "stderr",
     "output_type": "stream",
     "text": [
      "/Users/natasha/opt/anaconda3/lib/python3.9/site-packages/sklearn/utils/validation.py:70: FutureWarning: Pass percentile=1.3841287200999994 as keyword args. From version 1.0 (renaming of 0.25) passing these as positional arguments will result in an error\n",
      "  warnings.warn(f\"Pass {args_msg} as keyword args. From version \"\n"
     ]
    },
    {
     "name": "stdout",
     "output_type": "stream",
     "text": [
      "Number of features retained: 8\n",
      "Feature selecting time elapsed: 7398.07s\n"
     ]
    }
   ],
   "source": [
    "from sklearn.neighbors import KNeighborsClassifier\n",
    "from sklearn.model_selection import train_test_split, cross_val_score\n",
    "from sklearn.feature_selection import SelectPercentile, mutual_info_classif\n",
    "\n",
    "X = pm_df_fs #all the pressure sensor features\n",
    "Y = pm_df['Exercise'] #the target i.e. exercise number\n",
    "\n",
    "print(X.shape)\n",
    "\n",
    "start = timer()\n",
    "\n",
    "X_list = []\n",
    "\n",
    "for i in tqdm(range(len(centiles))):\n",
    "    X_list.append(SelectPercentile(mutual_info_classif, centiles[i]).fit_transform(X, Y))\n",
    "    print(\"Number of features retained: {}\".format(X_list[i].shape[1]))\n",
    "\n",
    "end = timer()\n",
    "dt = end - start\n",
    "print(\"Feature selecting time elapsed: {:.2f}s\".format(dt))"
   ]
  },
  {
   "cell_type": "code",
   "execution_count": 14,
   "id": "a88f6b4c",
   "metadata": {},
   "outputs": [
    {
     "data": {
      "text/plain": [
       "[0, 1, 2, 3, 4, 5, 6, 7, 8, 9, 10, 11, 12]"
      ]
     },
     "execution_count": 14,
     "metadata": {},
     "output_type": "execute_result"
    }
   ],
   "source": [
    "#counting how many datasets we now have\n",
    "#each set has 30% less features than the previous\n",
    "list(range(len(centiles)))"
   ]
  },
  {
   "cell_type": "markdown",
   "id": "ad68048b",
   "metadata": {},
   "source": [
    "### Running the 13 dataset volumes through a K-Nearest Neighbors Classifier\n",
    "In this dataset, the type of exercise being performed by the subject is our target to be predicted. Because this is a discrete data type, it forms an interesting classification problem. <br>\n",
    "\n",
    "The K-Nearest Neighbors classifier (KNN) will be used in this analysis - it is a simple supervised machine learning algorithm which utilises observations within known classes (labeled data in our training set which tells us what pressure measurements are typical of which exercises). It then compares these against observations (pressure readings) with an unknown class - matching them according to proximity. <br>\n",
    "\n",
    "The true intention of this analysis is to prove feature selection can improve the performance of a model, with additional computational benefits as a by-product. More information does not necessarily produce a more accurate model, due to noise and over-fitting. <br>\n",
    "\n",
    "The next steps are therefore to measure the levels of classification precision after reducing the sensor volume by 30% in a stepwise manner."
   ]
  },
  {
   "cell_type": "code",
   "execution_count": 15,
   "id": "b5a164ca",
   "metadata": {},
   "outputs": [],
   "source": [
    "from sklearn.metrics import confusion_matrix\n",
    "from sklearn.metrics import classification_report"
   ]
  },
  {
   "cell_type": "code",
   "execution_count": 16,
   "id": "e180e5a2",
   "metadata": {
    "scrolled": true
   },
   "outputs": [
    {
     "name": "stdout",
     "output_type": "stream",
     "text": [
      "Fitting time elapsed for 512 columns: 1.31s\n",
      "Predicting time elapsed: 217.22s\n",
      "Confusion matrix:\n",
      "[[7109    1   13    0    0    0    0]\n",
      " [   1 7669    1    0    2    0    0]\n",
      " [   0    4 7520    0    1    2    2]\n",
      " [   0    0    0 3808    1    0    0]\n",
      " [   0    0  468    0 6764    3    8]\n",
      " [   0    0  818    0    1 5774   32]\n",
      " [   0    0 1973    0    5   28 5021]]\n",
      "{'1': {'precision': 0.9998593530239099, 'recall': 0.998034536010108, 'f1-score': 0.998946111150144, 'support': 7123}, '2': {'precision': 0.9993484493093563, 'recall': 0.9994786915157045, 'f1-score': 0.9994135661692839, 'support': 7673}, '3': {'precision': 0.6967478921523209, 'recall': 0.9988046221277727, 'f1-score': 0.8208710839428011, 'support': 7529}, '4': {'precision': 1.0, 'recall': 0.9997374639012864, 'f1-score': 0.9998687147170802, 'support': 3809}, '5': {'precision': 0.9985237673457337, 'recall': 0.9338671821068618, 'f1-score': 0.9651137903973747, 'support': 7243}, '6': {'precision': 0.9943172033752368, 'recall': 0.8715471698113207, 'f1-score': 0.928893178893179, 'support': 6625}, '7': {'precision': 0.9917045230100731, 'recall': 0.7145296712679664, 'f1-score': 0.8306038047973532, 'support': 7027}, 'accuracy': 0.9284696676518743, 'macro avg': {'precision': 0.9543573126023759, 'recall': 0.9308570481058601, 'f1-score': 0.9348157500096023, 'support': 47029}, 'weighted avg': {'precision': 0.949056550332618, 'recall': 0.9284696676518743, 'f1-score': 0.9303561887054498, 'support': 47029}}\n",
      "\n",
      "\n",
      "\n",
      "Fitting time elapsed for 358 columns: 0.85s\n",
      "Predicting time elapsed: 180.13s\n",
      "Confusion matrix:\n",
      "[[7001    2    1    0    0    0    8]\n",
      " [   1 7480    3    0    2    0    0]\n",
      " [   0    5 7570    0    0    1   85]\n",
      " [   0    0    0 3774    0    1    1]\n",
      " [   0    0    0    0 6854    0  469]\n",
      " [   0    0    1    0    1 5820  790]\n",
      " [   0    0    2    0    6   24 7127]]\n",
      "{'1': {'precision': 0.9998571836618109, 'recall': 0.9984312606959498, 'f1-score': 0.9991437134294276, 'support': 7012}, '2': {'precision': 0.9990650460798718, 'recall': 0.999198503873898, 'f1-score': 0.9991317705202698, 'support': 7486}, '3': {'precision': 0.9990761515111521, 'recall': 0.9881216551364052, 'f1-score': 0.9935687098044362, 'support': 7661}, '4': {'precision': 1.0, 'recall': 0.9994703389830508, 'f1-score': 0.9997350993377483, 'support': 3776}, '5': {'precision': 0.9986886201369664, 'recall': 0.9359552096135464, 'f1-score': 0.9663048075567462, 'support': 7323}, '6': {'precision': 0.9955525145398563, 'recall': 0.8802177858439202, 'f1-score': 0.934339380317868, 'support': 6612}, '7': {'precision': 0.8404481132075472, 'recall': 0.9955301019695488, 'f1-score': 0.9114393503420934, 'support': 7159}, 'accuracy': 0.9701673435539774, 'macro avg': {'precision': 0.9760982327338864, 'recall': 0.9709892651594741, 'f1-score': 0.9719518330440843, 'support': 47029}, 'weighted avg': {'precision': 0.9745620773856734, 'recall': 0.9701673435539774, 'f1-score': 0.9707057809243627, 'support': 47029}}\n",
      "\n",
      "\n",
      "\n",
      "Fitting time elapsed for 251 columns: 0.52s\n",
      "Predicting time elapsed: 140.78s\n",
      "Confusion matrix:\n",
      "[[7045    0    0    0    9    0    0]\n",
      " [   2 7368    1    0    2    0    0]\n",
      " [   0    6 7460    0   84    2    2]\n",
      " [   0    0    0 3920    0    0    0]\n",
      " [   0    0    0    0 7229    5    2]\n",
      " [   0    0    1    0  834 5852   35]\n",
      " [   0    0    1    0 2088   34 5047]]\n",
      "{'1': {'precision': 0.9997161912870726, 'recall': 0.9987241281542387, 'f1-score': 0.9992199134813134, 'support': 7054}, '2': {'precision': 0.9991863303498779, 'recall': 0.9993218499932185, 'f1-score': 0.9992540855767275, 'support': 7373}, '3': {'precision': 0.9995980168832909, 'recall': 0.9875562615832671, 'f1-score': 0.9935406539255509, 'support': 7554}, '4': {'precision': 1.0, 'recall': 1.0, 'f1-score': 1.0, 'support': 3920}, '5': {'precision': 0.7055436267811829, 'recall': 0.9990326147042565, 'f1-score': 0.8270220798535636, 'support': 7236}, '6': {'precision': 0.9930425929068386, 'recall': 0.8705742338589706, 'f1-score': 0.927784383670234, 'support': 6722}, '7': {'precision': 0.9923318914667715, 'recall': 0.7039051603905161, 'f1-score': 0.8235966057441254, 'support': 7170}, 'accuracy': 0.9339131174381764, 'macro avg': {'precision': 0.9556312356678619, 'recall': 0.9370163212406383, 'f1-score': 0.9386311031787878, 'support': 47029}, 'weighted avg': {'precision': 0.9522959854827915, 'recall': 0.9339131174381764, 'f1-score': 0.9348973995289096, 'support': 47029}}\n",
      "\n",
      "\n",
      "\n",
      "Fitting time elapsed for 176 columns: 0.36s\n",
      "Predicting time elapsed: 122.21s\n",
      "Confusion matrix:\n",
      "[[7069    2    2    0    0    0   14]\n",
      " [   2 7538    5    0    1    0    1]\n",
      " [   0    2 7394    0    0    2   91]\n",
      " [   0    0    0 3914    0    0    1]\n",
      " [   0    0    0    0 6803    4  460]\n",
      " [   0    0    0    0    3 5677  883]\n",
      " [   1    0    1    0    4   67 7088]]\n",
      "{'1': {'precision': 0.9995757918552036, 'recall': 0.9974601382813603, 'f1-score': 0.9985168444099161, 'support': 7087}, '2': {'precision': 0.9994696367011403, 'recall': 0.9988074731681463, 'f1-score': 0.9991384452249984, 'support': 7547}, '3': {'precision': 0.9989192110240476, 'recall': 0.9873147282681266, 'f1-score': 0.9930830703109261, 'support': 7489}, '4': {'precision': 1.0, 'recall': 0.9997445721583652, 'f1-score': 0.9998722697662535, 'support': 3915}, '5': {'precision': 0.9988254294523565, 'recall': 0.9361497179028485, 'f1-score': 0.9664725102997584, 'support': 7267}, '6': {'precision': 0.987304347826087, 'recall': 0.8650007618467165, 'f1-score': 0.9221148379761228, 'support': 6563}, '7': {'precision': 0.830171000234247, 'recall': 0.9898058930316995, 'f1-score': 0.9029874514300273, 'support': 7161}, 'accuracy': 0.9671266665249102, 'macro avg': {'precision': 0.9734664881561547, 'recall': 0.9677547549510377, 'f1-score': 0.9688836327740004, 'support': 47029}, 'weighted avg': {'precision': 0.9718661744819314, 'recall': 0.9671266665249102, 'f1-score': 0.9677044871423081, 'support': 47029}}\n",
      "\n",
      "\n",
      "\n",
      "Fitting time elapsed for 123 columns: 0.27s\n",
      "Predicting time elapsed: 108.87s\n",
      "Confusion matrix:\n",
      "[[6957    2    0    0    0    0   16]\n",
      " [   2 7590    3    0    1    0    1]\n",
      " [   1    4 7473    0    2    0   77]\n",
      " [   0    0    0 3773    0    1    0]\n",
      " [   0    0    0    0 6740   22  523]\n",
      " [   0    0    1    0   25 4981 1613]\n",
      " [   0    0    1    0    9  144 7067]]\n",
      "{'1': {'precision': 0.9995689655172414, 'recall': 0.9974193548387097, 'f1-score': 0.9984930032292788, 'support': 6975}, '2': {'precision': 0.9992101105845181, 'recall': 0.9990785836514413, 'f1-score': 0.9991443427894425, 'support': 7597}, '3': {'precision': 0.9993313720246055, 'recall': 0.9888844779674474, 'f1-score': 0.9940804788826072, 'support': 7557}, '4': {'precision': 1.0, 'recall': 0.9997350291467939, 'f1-score': 0.9998674970186829, 'support': 3774}, '5': {'precision': 0.9945403570901579, 'recall': 0.9251887439945092, 'f1-score': 0.9586118617550846, 'support': 7285}, '6': {'precision': 0.9675602175602176, 'recall': 0.752416918429003, 'f1-score': 0.846532970768185, 'support': 6620}, '7': {'precision': 0.760137678821125, 'recall': 0.9786733139454369, 'f1-score': 0.855672599588328, 'support': 7221}, 'accuracy': 0.9479470114184865, 'macro avg': {'precision': 0.9600498145139807, 'recall': 0.9487709174247632, 'f1-score': 0.950343250575944, 'support': 47029}, 'weighted avg': {'precision': 0.9574596364668836, 'recall': 0.9479470114184865, 'f1-score': 0.9485020286069973, 'support': 47029}}\n",
      "\n",
      "\n",
      "\n",
      "Fitting time elapsed for 86 columns: 0.19s\n",
      "Predicting time elapsed: 99.94s\n",
      "Confusion matrix:\n",
      "[[6953    2    0    0    2   14    0]\n",
      " [   3 7452    4    0    1    0    0]\n",
      " [   3    9 7294    0    1   89    1]\n",
      " [   2    0    0 3831    0    1    1]\n",
      " [   0    1    1    0 5973 1356   11]\n",
      " [   1    0    0    0   26 6452  219]\n",
      " [   0    0    2    0   13 2708 4603]]\n",
      "{'1': {'precision': 0.9987072680264292, 'recall': 0.9974178740496342, 'f1-score': 0.998062154597, 'support': 6971}, '2': {'precision': 0.9983922829581994, 'recall': 0.9989276139410188, 'f1-score': 0.9986598767086573, 'support': 7460}, '3': {'precision': 0.9990412272291467, 'recall': 0.9860754359875625, 'f1-score': 0.9925159885698734, 'support': 7397}, '4': {'precision': 1.0, 'recall': 0.9989569752281616, 'f1-score': 0.9994782154969998, 'support': 3835}, '5': {'precision': 0.9928523936170213, 'recall': 0.813538545355489, 'f1-score': 0.8942955532265309, 'support': 7342}, '6': {'precision': 0.607532956685499, 'recall': 0.9632726186921469, 'f1-score': 0.7451206836817184, 'support': 6698}, '7': {'precision': 0.9520165460186143, 'recall': 0.6283101283101283, 'f1-score': 0.7570101142998109, 'support': 7326}, 'accuracy': 0.9049310000212635, 'macro avg': {'precision': 0.9355060963621299, 'recall': 0.912357027366306, 'f1-score': 0.9121632266543701, 'support': 47029}, 'weighted avg': {'precision': 0.9349157751183826, 'recall': 0.9049310000212635, 'f1-score': 0.9076256367831419, 'support': 47029}}\n",
      "\n",
      "\n",
      "\n"
     ]
    },
    {
     "name": "stdout",
     "output_type": "stream",
     "text": [
      "Fitting time elapsed for 61 columns: 0.14s\n",
      "Predicting time elapsed: 94.93s\n",
      "Confusion matrix:\n",
      "[[7068    2    0    1   12    4    3]\n",
      " [   4 7492   16    0    2    0    1]\n",
      " [   1    4 7392    1   82    3    3]\n",
      " [   1    0    0 3807    2    1    2]\n",
      " [   2    3    1    0 7218   67   76]\n",
      " [   0    0    2    0 2847 3356  422]\n",
      " [   3    0    3    0 2440  530 4155]]\n",
      "{'1': {'precision': 0.9984461082073739, 'recall': 0.9968970380818054, 'f1-score': 0.9976709718399323, 'support': 7090}, '2': {'precision': 0.9988001599786696, 'recall': 0.9969394544244844, 'f1-score': 0.9978689397975492, 'support': 7515}, '3': {'precision': 0.9970326409495549, 'recall': 0.9874432273577345, 'f1-score': 0.9922147651006712, 'support': 7486}, '4': {'precision': 0.9994749278025729, 'recall': 0.998426435877262, 'f1-score': 0.998950406717397, 'support': 3813}, '5': {'precision': 0.5727207807664841, 'recall': 0.9797746708293742, 'f1-score': 0.7228843264897344, 'support': 7367}, '6': {'precision': 0.8472607927291088, 'recall': 0.5064131582918364, 'f1-score': 0.6339251983377409, 'support': 6627}, '7': {'precision': 0.8912483912483913, 'recall': 0.5826672275978124, 'f1-score': 0.7046553039938948, 'support': 7131}, 'accuracy': 0.8609156052648366, 'macro avg': {'precision': 0.9007119716688792, 'recall': 0.8640801732086156, 'f1-score': 0.864024273182417, 'support': 47029}, 'weighted avg': {'precision': 0.8941137149972215, 'recall': 0.8609156052648366, 'f1-score': 0.8582065959449554, 'support': 47029}}\n",
      "\n",
      "\n",
      "\n",
      "Fitting time elapsed for 43 columns: 0.10s\n",
      "Predicting time elapsed: 90.24s\n",
      "Confusion matrix:\n",
      "[[7011    5    1    0    7   23    5]\n",
      " [   7 7477   15    0    1    3    4]\n",
      " [   4   13 7490    0    4   86    9]\n",
      " [   2    0    0 3804    0    3    2]\n",
      " [   5    0    2    0 5702 1456  120]\n",
      " [   0    0    2    0  125 5772  752]\n",
      " [   6    0    7    0   94 3357 3653]]\n",
      "{'1': {'precision': 0.9965884861407249, 'recall': 0.9941860465116279, 'f1-score': 0.9953858167104421, 'support': 7052}, '2': {'precision': 0.9975983989326217, 'recall': 0.996003729852138, 'f1-score': 0.9968004266097853, 'support': 7507}, '3': {'precision': 0.9964081415458295, 'recall': 0.9847488824612148, 'f1-score': 0.9905442041922898, 'support': 7606}, '4': {'precision': 1.0, 'recall': 0.9981632117554448, 'f1-score': 0.9990807616546291, 'support': 3811}, '5': {'precision': 0.9610652283836171, 'recall': 0.7827041866849691, 'f1-score': 0.8627628990770163, 'support': 7285}, '6': {'precision': 0.5394392523364486, 'recall': 0.8678394226432116, 'f1-score': 0.6653218834649299, 'support': 6651}, '7': {'precision': 0.8037403740374037, 'recall': 0.513278066601096, 'f1-score': 0.626479163093809, 'support': 7117}, 'accuracy': 0.8698675285462162, 'macro avg': {'precision': 0.8992628401966637, 'recall': 0.8767033637871001, 'f1-score': 0.8766250221147003, 'support': 47029}, 'weighted avg': {'precision': 0.8976585597766853, 'recall': 0.8698675285462162, 'f1-score': 0.8720779381274106, 'support': 47029}}\n",
      "\n",
      "\n",
      "\n",
      "Fitting time elapsed for 30 columns: 0.07s\n",
      "Predicting time elapsed: 91.13s\n",
      "Confusion matrix:\n",
      "[[6942    8    9    4   15   10    5]\n",
      " [  11 7593   26    0    2    0    3]\n",
      " [   5   17 7498    0   67    2    9]\n",
      " [   2    0    1 3886    1    0    3]\n",
      " [  14    2    2    4 6879  192  105]\n",
      " [   5    0    1    1 3781 2226  588]\n",
      " [   9    2    8    0 3138  652 3301]]\n",
      "{'1': {'precision': 0.9934172867773325, 'recall': 0.9927069927069927, 'f1-score': 0.9930620127315642, 'support': 6993}, '2': {'precision': 0.9961952243505642, 'recall': 0.9944990176817289, 'f1-score': 0.9953463983745165, 'support': 7635}, '3': {'precision': 0.9937707090788602, 'recall': 0.9868386417478284, 'f1-score': 0.9902925444099585, 'support': 7598}, '4': {'precision': 0.9976893453145058, 'recall': 0.9982019008476753, 'f1-score': 0.9979455572675912, 'support': 3893}, '5': {'precision': 0.49549809119066485, 'recall': 0.9556821339260906, 'f1-score': 0.6526255870214885, 'support': 7198}, '6': {'precision': 0.7222582738481506, 'recall': 0.33717055437746135, 'f1-score': 0.459727385377943, 'support': 6602}, '7': {'precision': 0.8223716990533134, 'recall': 0.4642756680731364, 'f1-score': 0.5934915498022294, 'support': 7110}, 'accuracy': 0.8149227072657297, 'macro avg': {'precision': 0.8601715185161988, 'recall': 0.818482129908702, 'f1-score': 0.8117844335693274, 'support': 47029}, 'weighted avg': {'precision': 0.8541452988123487, 'recall': 0.8149227072657297, 'f1-score': 0.8060056838595455, 'support': 47029}}\n",
      "\n",
      "\n",
      "\n",
      "Fitting time elapsed for 21 columns: 0.06s\n",
      "Predicting time elapsed: 87.96s\n",
      "Confusion matrix:\n",
      "[[6907   34   23   12   36   29   64]\n",
      " [  29 7374   30    1    6   18   26]\n",
      " [  19   22 7434    2   17    2  106]\n",
      " [   3    0    1 3841    1    2    1]\n",
      " [  39    3   10    6 5300  121 1758]\n",
      " [  22   14    2    3  159 1527 4983]\n",
      " [  28   19   19    2  161  501 6312]]\n",
      "{'1': {'precision': 0.9801333900950759, 'recall': 0.9721323011963406, 'f1-score': 0.9761164499717354, 'support': 7105}, '2': {'precision': 0.9876774712027859, 'recall': 0.9853019775521111, 'f1-score': 0.9864882943143812, 'support': 7484}, '3': {'precision': 0.9886953052267589, 'recall': 0.9779005524861878, 'f1-score': 0.9832683023609549, 'support': 7602}, '4': {'precision': 0.9932764416860616, 'recall': 0.9979215380618343, 'f1-score': 0.9955935717988595, 'support': 3849}, '5': {'precision': 0.9330985915492958, 'recall': 0.7323476578692828, 'f1-score': 0.8206239838971898, 'support': 7237}, '6': {'precision': 0.6940909090909091, 'recall': 0.22757078986587184, 'f1-score': 0.34276094276094277, 'support': 6710}, '7': {'precision': 0.47637735849056606, 'recall': 0.8963362681056518, 'f1-score': 0.6221170904790065, 'support': 7042}, 'accuracy': 0.8227901932849944, 'macro avg': {'precision': 0.8647642096202077, 'recall': 0.8270730121624685, 'f1-score': 0.8181383765118672, 'support': 47029}, 'weighted avg': {'precision': 0.8603126269115537, 'recall': 0.8227901932849944, 'f1-score': 0.813216553884685, 'support': 47029}}\n",
      "\n",
      "\n",
      "\n",
      "Fitting time elapsed for 15 columns: 3.45s\n",
      "Predicting time elapsed: 10.39s\n",
      "Confusion matrix:\n",
      "[[6852   44   25   12   39   28   76]\n",
      " [  41 7302   36    3   11   34   22]\n",
      " [  25   27 7385    0   31   82   34]\n",
      " [   7    0    2 3833    2    6    3]\n",
      " [  59   15   26    9 5214 1676  152]\n",
      " [  29   44    9    3  226 5790  527]\n",
      " [  62   36   20    3  212 4398 2557]]\n",
      "{'1': {'precision': 0.9684805653710248, 'recall': 0.9683436970039571, 'f1-score': 0.9684121263514947, 'support': 7076}, '2': {'precision': 0.9777718264595608, 'recall': 0.9802658074909384, 'f1-score': 0.9790172286652813, 'support': 7449}, '3': {'precision': 0.9842729574836732, 'recall': 0.9737605485232067, 'f1-score': 0.9789885331742559, 'support': 7584}, '4': {'precision': 0.9922340150142377, 'recall': 0.9948092395535946, 'f1-score': 0.9935199585277346, 'support': 3853}, '5': {'precision': 0.9091543156059285, 'recall': 0.7291287931757796, 'f1-score': 0.8092503492162038, 'support': 7151}, '6': {'precision': 0.4819377393041452, 'recall': 0.8735666867833434, 'f1-score': 0.6211779851947216, 'support': 6628}, '7': {'precision': 0.7585286265203204, 'recall': 0.35085071350164654, 'f1-score': 0.47978234355943333, 'support': 7288}, 'accuracy': 0.8278509005081971, 'macro avg': {'precision': 0.8674828636798415, 'recall': 0.8386750694332095, 'f1-score': 0.8328783606698751, 'support': 47029}, 'weighted avg': {'precision': 0.8643176989167246, 'recall': 0.8278509005081971, 'f1-score': 0.8249938470128774, 'support': 47029}}\n",
      "\n",
      "\n",
      "\n",
      "Fitting time elapsed for 11 columns: 3.10s\n",
      "Predicting time elapsed: 6.85s\n",
      "Confusion matrix:\n",
      "[[6728   61   64   23  107   67  101]\n",
      " [  78 7260   67    2   18   62   37]\n",
      " [  52   37 7068    1   52  117   60]\n",
      " [  11    0    1 3786    7   10    6]\n",
      " [ 167   31   58   34 5135 1761   86]\n",
      " [  43   37   25   21  161 5795  615]\n",
      " [ 108   63   49    7  153 4657 2140]]\n",
      "{'1': {'precision': 0.9361346876304438, 'recall': 0.9408474339253251, 'f1-score': 0.9384851443715999, 'support': 7151}, '2': {'precision': 0.9694218186673789, 'recall': 0.9649122807017544, 'f1-score': 0.9671617931126358, 'support': 7524}, '3': {'precision': 0.9639934533551555, 'recall': 0.9568160281575742, 'f1-score': 0.960391330932808, 'support': 7387}, '4': {'precision': 0.977284460505937, 'recall': 0.9908400942161738, 'f1-score': 0.9840155945419102, 'support': 3821}, '5': {'precision': 0.9115924019172732, 'recall': 0.7061331133113311, 'f1-score': 0.7958155753583882, 'support': 7272}, '6': {'precision': 0.4647525864143075, 'recall': 0.8653128266387935, 'f1-score': 0.6047166857977669, 'support': 6697}, '7': {'precision': 0.7027914614121511, 'recall': 0.2981747248153825, 'f1-score': 0.4187047544511837, 'support': 7177}, 'accuracy': 0.806140891790172, 'macro avg': {'precision': 0.8465672671289496, 'recall': 0.8175766431094764, 'f1-score': 0.809898696938042, 'support': 47029}, 'weighted avg': {'precision': 0.8426488935537736, 'recall': 0.806140891790172, 'f1-score': 0.8013006757238315, 'support': 47029}}\n",
      "\n",
      "\n",
      "\n"
     ]
    },
    {
     "name": "stdout",
     "output_type": "stream",
     "text": [
      "Fitting time elapsed for 8 columns: 2.54s\n",
      "Predicting time elapsed: 5.93s\n",
      "Confusion matrix:\n",
      "[[6430  112  120   40  127   20  210]\n",
      " [ 122 7055  114   28   43   39   96]\n",
      " [  77  117 7059    4   83   21  204]\n",
      " [  27   11    3 3733   21   17   10]\n",
      " [ 254   48   89   22 4763   30 2015]\n",
      " [  62   31   31    6  119  447 5930]\n",
      " [  82   90   92    6  150  245 6574]]\n",
      "{'1': {'precision': 0.9115395520272186, 'recall': 0.9108938943193087, 'f1-score': 0.9112166088003968, 'support': 7059}, '2': {'precision': 0.9452036441586281, 'recall': 0.9410430839002267, 'f1-score': 0.9431187754829222, 'support': 7497}, '3': {'precision': 0.9401971230687267, 'recall': 0.9331130204890945, 'f1-score': 0.9366416771711007, 'support': 7565}, '4': {'precision': 0.9723886428757489, 'recall': 0.9767137624280482, 'f1-score': 0.9745464038637254, 'support': 3822}, '5': {'precision': 0.8976630229928383, 'recall': 0.6596039329732724, 'f1-score': 0.7604374550969906, 'support': 7221}, '6': {'precision': 0.5457875457875457, 'recall': 0.06746151524298219, 'f1-score': 0.12008059100067159, 'support': 6626}, '7': {'precision': 0.43713012833300086, 'recall': 0.9081364829396326, 'f1-score': 0.5901786515845228, 'support': 7239}, 'accuracy': 0.7667821982181208, 'macro avg': {'precision': 0.8071299513205296, 'recall': 0.770995098898938, 'f1-score': 0.74803145185719, 'support': 47029}, 'weighted avg': {'precision': 0.799774777552692, 'recall': 0.7667821982181208, 'f1-score': 0.741506863057479, 'support': 47029}}\n",
      "\n",
      "\n",
      "\n"
     ]
    }
   ],
   "source": [
    "neigh = KNeighborsClassifier(n_neighbors=3)\n",
    "\n",
    "fit_time = []\n",
    "predict_time = []\n",
    "reports = []\n",
    "\n",
    "for i in range(len(centiles)): #for each volume of data\n",
    "    start = timer()\n",
    "    x_train, x_test, y_train, y_test = train_test_split(X_list[i], Y) #for each dataset in x_list (30% stepwise feature reduction), split the dataset into training and testing sets.\n",
    "    neigh.fit(x_train, y_train) #run the training data through the KNN\n",
    "    end = timer()\n",
    "    fit_time.append(end - start) #record the training time. this will help us compare model performance\n",
    "    print(\"Fitting time elapsed for {} columns: {:.2f}s\".format(x_train.shape[1], fit_time[i]))\n",
    "    \n",
    "    start = timer()\n",
    "    pred = neigh.predict(x_test) #run test data through our trained KNN to predict exercise performed\n",
    "    end = timer()\n",
    "    predict_time.append(end - start) #record the prediction time. this will help us compare model performance\n",
    "    print(\"Predicting time elapsed: {:.2f}s\".format(predict_time[i]))\n",
    "\n",
    "    c_mat = confusion_matrix(y_test, pred) #compare the test predictions against the actual target (hidden to trained model). produce a confusion matrix.\n",
    "    print(\"Confusion matrix:\\n{}\".format(c_mat))\n",
    "    \n",
    "    reports.append(classification_report(y_test, pred, output_dict = True)) #writes a report of results\n",
    "    print(reports[i])\n",
    "    \n",
    "    print(\"\\n\\n\")   "
   ]
  },
  {
   "cell_type": "code",
   "execution_count": 17,
   "id": "bc684329",
   "metadata": {},
   "outputs": [],
   "source": [
    "#pull macro average precision results from the above reports into a list\n",
    "macro_avg = []\n",
    "\n",
    "for i in range(len(reports)):\n",
    "    macro_avg.append(reports[i]['macro avg']['precision'])"
   ]
  },
  {
   "cell_type": "code",
   "execution_count": 18,
   "id": "b30e566b",
   "metadata": {},
   "outputs": [
    {
     "data": {
      "text/plain": [
       "[0.9543573126023759,\n",
       " 0.9760982327338864,\n",
       " 0.9556312356678619,\n",
       " 0.9734664881561547,\n",
       " 0.9600498145139807,\n",
       " 0.9355060963621299,\n",
       " 0.9007119716688792,\n",
       " 0.8992628401966637,\n",
       " 0.8601715185161988,\n",
       " 0.8647642096202077,\n",
       " 0.8674828636798415,\n",
       " 0.8465672671289496,\n",
       " 0.8071299513205296]"
      ]
     },
     "execution_count": 18,
     "metadata": {},
     "output_type": "execute_result"
    }
   ],
   "source": [
    "list(macro_avg)"
   ]
  },
  {
   "cell_type": "code",
   "execution_count": 19,
   "id": "f73fb4a0",
   "metadata": {
    "scrolled": false
   },
   "outputs": [
    {
     "data": {
      "image/png": "[encoded data removed]",
      "text/plain": [
       "<Figure size 432x288 with 2 Axes>"
      ]
     },
     "metadata": {
      "needs_background": "light"
     },
     "output_type": "display_data"
    }
   ],
   "source": [
    "t = list(range(len(centiles)))\n",
    "\n",
    "numCol = []\n",
    "for i in range(len(X_list)):\n",
    "    numCol.append(X_list[i].shape[1])\n",
    "    \n",
    "fig, ax1 = plt.subplots()\n",
    "\n",
    "color = 'tab:red'\n",
    "ax1.set_xlabel('Number of Columns Used')\n",
    "ax1.set_ylabel('Macro Average Precision', color=color)\n",
    "ax1.plot(t, macro_avg, color=color)\n",
    "ax1.tick_params(axis='y', labelcolor=color)\n",
    "\n",
    "plt.xticks(t, numCol)\n",
    "\n",
    "ax2 = ax1.twinx() #instantiate a second axes that shares the same x-axis\n",
    "\n",
    "color = 'tab:blue'\n",
    "ax2.set_ylabel('Prediction Time (s)', color=color)  #already handled the x-label with ax1\n",
    "ax2.plot(t, predict_time, color=color)\n",
    "ax2.tick_params(axis='y', labelcolor=color)\n",
    "\n",
    "fig.tight_layout()  #otherwise the right y-label is slightly clipped\n",
    "plt.show()"
   ]
  },
  {
   "cell_type": "markdown",
   "id": "e0f059b8",
   "metadata": {},
   "source": [
    "There is an immediate increase in the macro average precision of the model upon removing 30% of features from the dataset. In addition to this, the time taken to make a prediction has decreased. "
   ]
  },
  {
   "cell_type": "code",
   "execution_count": null,
   "id": "c01b7de9",
   "metadata": {},
   "outputs": [],
   "source": []
  }
 ],
 "metadata": {
  "kernelspec": {
   "display_name": "Python 3 (ipykernel)",
   "language": "python",
   "name": "python3"
  },
  "language_info": {
   "codemirror_mode": {
    "name": "ipython",
    "version": 3
   },
   "file_extension": ".py",
   "mimetype": "text/x-python",
   "name": "python",
   "nbconvert_exporter": "python",
   "pygments_lexer": "ipython3",
   "version": "3.9.7"
  }
 },
 "nbformat": 4,
 "nbformat_minor": 5
}
