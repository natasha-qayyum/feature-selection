{
 "cells": [
  {
   "cell_type": "markdown",
   "id": "6c3692f9",
   "metadata": {},
   "source": [
    "# Feature Selection\n",
    "## Reducing the number of features used, in order to optimisea machine learning human activity recognition model\n",
    "#### Natasha Qayyum - 2021\n",
    "\n",
    "MEx is a multimodel dataset containing data for 7 different physiotherapy exercises performed by 30 subjects, recorded by four sensor modalities. This notebook utilises the data recorded by one of these modalities, the Sensing Tex Pressure Mat (sampling frequency 15Hz, frame size 32 * 16), which is both rich and sparse.\n",
    "\n",
    "The aim is to intelligently select a subset of the 512 features, to train a machine learning (ML) model whilst demonstrating a beneficial application of Feature Selection in the pre-processing steps. The ML model seeks to predict which physiotherapy exercise a subject is performing on the pressure mat, according to sensor readings. \n",
    "\n",
    "Benefits of feature selection include:\n",
    "- Reduced training times\n",
    "- Reduced computational requirements\n",
    "- Remove irrelevant features, for example those pressure points which have never picked up a signal\n",
    "- Reduce overfitting, seperating the signal from the noise"
   ]
  },
  {
   "cell_type": "code",
   "execution_count": 1,
   "id": "3062609e",
   "metadata": {},
   "outputs": [
    {
     "data": {
      "text/plain": [
       "512"
      ]
     },
     "execution_count": 1,
     "metadata": {},
     "output_type": "execute_result"
    }
   ],
   "source": [
    "32*16"
   ]
  },
  {
   "cell_type": "code",
   "execution_count": null,
   "id": "3b1fd6dc",
   "metadata": {},
   "outputs": [],
   "source": []
  }
 ],
 "metadata": {
  "kernelspec": {
   "display_name": "Python 3 (ipykernel)",
   "language": "python",
   "name": "python3"
  },
  "language_info": {
   "codemirror_mode": {
    "name": "ipython",
    "version": 3
   },
   "file_extension": ".py",
   "mimetype": "text/x-python",
   "name": "python",
   "nbconvert_exporter": "python",
   "pygments_lexer": "ipython3",
   "version": "3.9.7"
  }
 },
 "nbformat": 4,
 "nbformat_minor": 5
}
